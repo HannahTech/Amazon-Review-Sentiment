{
 "cells": [
  {
   "cell_type": "markdown",
   "id": "c3068a13",
   "metadata": {},
   "source": [
    "### Amazon Review Sentiment\n",
    "### Group 04\n",
    "##### Comp 262 Sec 01 - Winter 2023"
   ]
  },
  {
   "cell_type": "code",
   "execution_count": 1,
   "id": "901abff8",
   "metadata": {
    "scrolled": false
   },
   "outputs": [],
   "source": [
    "import pandas as pd\n",
    "import numpy as np\n",
    "import json, re, string, nltk, statistics, spacy, textwrap, warnings\n",
    "import matplotlib.pyplot as plt\n",
    "import seaborn as sns\n",
    "from nltk.tokenize import word_tokenize\n",
    "from nltk.stem import WordNetLemmatizer\n",
    "from nltk.corpus import wordnet as wn\n",
    "from nltk.corpus import sentiwordnet as swn\n",
    "from nltk.tag import pos_tag\n",
    "from nltk.corpus import stopwords\n",
    "from nltk.sentiment.vader import SentimentIntensityAnalyzer\n",
    "from textblob import TextBlob\n",
    "from sklearn.utils import shuffle\n",
    "from sklearn.metrics import classification_report, confusion_matrix, accuracy_score\n",
    "from sklearn.feature_extraction.text import CountVectorizer, TfidfVectorizer\n",
    "from sklearn.model_selection import train_test_split\n",
    "from nltk.corpus import stopwords\n",
    "from nltk.stem import WordNetLemmatizer\n",
    "from sklearn.exceptions import ConvergenceWarning\n",
    "\n",
    "warnings.filterwarnings(\"ignore\", category=ConvergenceWarning)"
   ]
  },
  {
   "cell_type": "code",
   "execution_count": 2,
   "id": "8960e464",
   "metadata": {
    "scrolled": false
   },
   "outputs": [],
   "source": [
    "# !pip install spacy"
   ]
  },
  {
   "cell_type": "code",
   "execution_count": 3,
   "id": "e60b23dc",
   "metadata": {
    "scrolled": false
   },
   "outputs": [],
   "source": [
    "df = pd.read_json(r\"G:\\My Drive\\Classes\\Sem06\\Comp262-NLP\\GroupProject\\Industrial_and_Scientific_5.json\",lines = True)"
   ]
  },
  {
   "cell_type": "markdown",
   "id": "3079e635",
   "metadata": {},
   "source": [
    "# List the main finding of the dataset."
   ]
  },
  {
   "cell_type": "code",
   "execution_count": 4,
   "id": "81700b3d",
   "metadata": {
    "scrolled": false
   },
   "outputs": [
    {
     "data": {
      "text/html": [
       "<div>\n",
       "<style scoped>\n",
       "    .dataframe tbody tr th:only-of-type {\n",
       "        vertical-align: middle;\n",
       "    }\n",
       "\n",
       "    .dataframe tbody tr th {\n",
       "        vertical-align: top;\n",
       "    }\n",
       "\n",
       "    .dataframe thead th {\n",
       "        text-align: right;\n",
       "    }\n",
       "</style>\n",
       "<table border=\"1\" class=\"dataframe\">\n",
       "  <thead>\n",
       "    <tr style=\"text-align: right;\">\n",
       "      <th></th>\n",
       "      <th>overall</th>\n",
       "      <th>verified</th>\n",
       "      <th>reviewTime</th>\n",
       "      <th>reviewerID</th>\n",
       "      <th>asin</th>\n",
       "      <th>style</th>\n",
       "      <th>reviewerName</th>\n",
       "      <th>reviewText</th>\n",
       "      <th>summary</th>\n",
       "      <th>unixReviewTime</th>\n",
       "      <th>vote</th>\n",
       "      <th>image</th>\n",
       "    </tr>\n",
       "  </thead>\n",
       "  <tbody>\n",
       "    <tr>\n",
       "      <th>0</th>\n",
       "      <td>5</td>\n",
       "      <td>True</td>\n",
       "      <td>11 27, 2017</td>\n",
       "      <td>A1JB7HFWHRYHT7</td>\n",
       "      <td>B0000223SI</td>\n",
       "      <td>{'Size:': ' 1-(Pack)'}</td>\n",
       "      <td>Alex W.</td>\n",
       "      <td>This worked really well for what I used it for...</td>\n",
       "      <td>Couldn't have been happier with it's performance</td>\n",
       "      <td>1511740800</td>\n",
       "      <td>NaN</td>\n",
       "      <td>NaN</td>\n",
       "    </tr>\n",
       "    <tr>\n",
       "      <th>1</th>\n",
       "      <td>5</td>\n",
       "      <td>True</td>\n",
       "      <td>11 4, 2017</td>\n",
       "      <td>A2FCLJG5GV8SD6</td>\n",
       "      <td>B0000223SI</td>\n",
       "      <td>{'Size:': ' 1-(Pack)'}</td>\n",
       "      <td>Randall Harris</td>\n",
       "      <td>Fast cutting and good adheasive.</td>\n",
       "      <td>Good paper.</td>\n",
       "      <td>1509753600</td>\n",
       "      <td>NaN</td>\n",
       "      <td>NaN</td>\n",
       "    </tr>\n",
       "    <tr>\n",
       "      <th>2</th>\n",
       "      <td>5</td>\n",
       "      <td>False</td>\n",
       "      <td>10 27, 2017</td>\n",
       "      <td>A3IT9B33NWYQSL</td>\n",
       "      <td>B0000223SI</td>\n",
       "      <td>{'Size:': ' 1-(Pack)'}</td>\n",
       "      <td>A. C.</td>\n",
       "      <td>Worked great for my lapping bench.  I would li...</td>\n",
       "      <td>Handy!</td>\n",
       "      <td>1509062400</td>\n",
       "      <td>NaN</td>\n",
       "      <td>NaN</td>\n",
       "    </tr>\n",
       "  </tbody>\n",
       "</table>\n",
       "</div>"
      ],
      "text/plain": [
       "   overall  verified   reviewTime      reviewerID        asin  \\\n",
       "0        5      True  11 27, 2017  A1JB7HFWHRYHT7  B0000223SI   \n",
       "1        5      True   11 4, 2017  A2FCLJG5GV8SD6  B0000223SI   \n",
       "2        5     False  10 27, 2017  A3IT9B33NWYQSL  B0000223SI   \n",
       "\n",
       "                    style    reviewerName  \\\n",
       "0  {'Size:': ' 1-(Pack)'}         Alex W.   \n",
       "1  {'Size:': ' 1-(Pack)'}  Randall Harris   \n",
       "2  {'Size:': ' 1-(Pack)'}           A. C.   \n",
       "\n",
       "                                          reviewText  \\\n",
       "0  This worked really well for what I used it for...   \n",
       "1                   Fast cutting and good adheasive.   \n",
       "2  Worked great for my lapping bench.  I would li...   \n",
       "\n",
       "                                            summary  unixReviewTime vote image  \n",
       "0  Couldn't have been happier with it's performance      1511740800  NaN   NaN  \n",
       "1                                       Good paper.      1509753600  NaN   NaN  \n",
       "2                                            Handy!      1509062400  NaN   NaN  "
      ]
     },
     "execution_count": 4,
     "metadata": {},
     "output_type": "execute_result"
    }
   ],
   "source": [
    "df.head(3)"
   ]
  },
  {
   "cell_type": "code",
   "execution_count": 5,
   "id": "e70624bd",
   "metadata": {
    "scrolled": false
   },
   "outputs": [
    {
     "data": {
      "text/html": [
       "<div>\n",
       "<style scoped>\n",
       "    .dataframe tbody tr th:only-of-type {\n",
       "        vertical-align: middle;\n",
       "    }\n",
       "\n",
       "    .dataframe tbody tr th {\n",
       "        vertical-align: top;\n",
       "    }\n",
       "\n",
       "    .dataframe thead th {\n",
       "        text-align: right;\n",
       "    }\n",
       "</style>\n",
       "<table border=\"1\" class=\"dataframe\">\n",
       "  <thead>\n",
       "    <tr style=\"text-align: right;\">\n",
       "      <th></th>\n",
       "      <th>overall</th>\n",
       "      <th>unixReviewTime</th>\n",
       "    </tr>\n",
       "  </thead>\n",
       "  <tbody>\n",
       "    <tr>\n",
       "      <th>count</th>\n",
       "      <td>77071.000000</td>\n",
       "      <td>7.707100e+04</td>\n",
       "    </tr>\n",
       "    <tr>\n",
       "      <th>mean</th>\n",
       "      <td>4.524062</td>\n",
       "      <td>1.454857e+09</td>\n",
       "    </tr>\n",
       "    <tr>\n",
       "      <th>std</th>\n",
       "      <td>0.949668</td>\n",
       "      <td>4.559407e+07</td>\n",
       "    </tr>\n",
       "    <tr>\n",
       "      <th>min</th>\n",
       "      <td>1.000000</td>\n",
       "      <td>1.051402e+09</td>\n",
       "    </tr>\n",
       "    <tr>\n",
       "      <th>25%</th>\n",
       "      <td>4.000000</td>\n",
       "      <td>1.427674e+09</td>\n",
       "    </tr>\n",
       "    <tr>\n",
       "      <th>50%</th>\n",
       "      <td>5.000000</td>\n",
       "      <td>1.459469e+09</td>\n",
       "    </tr>\n",
       "    <tr>\n",
       "      <th>75%</th>\n",
       "      <td>5.000000</td>\n",
       "      <td>1.486944e+09</td>\n",
       "    </tr>\n",
       "    <tr>\n",
       "      <th>max</th>\n",
       "      <td>5.000000</td>\n",
       "      <td>1.538093e+09</td>\n",
       "    </tr>\n",
       "  </tbody>\n",
       "</table>\n",
       "</div>"
      ],
      "text/plain": [
       "            overall  unixReviewTime\n",
       "count  77071.000000    7.707100e+04\n",
       "mean       4.524062    1.454857e+09\n",
       "std        0.949668    4.559407e+07\n",
       "min        1.000000    1.051402e+09\n",
       "25%        4.000000    1.427674e+09\n",
       "50%        5.000000    1.459469e+09\n",
       "75%        5.000000    1.486944e+09\n",
       "max        5.000000    1.538093e+09"
      ]
     },
     "execution_count": 5,
     "metadata": {},
     "output_type": "execute_result"
    }
   ],
   "source": [
    "df.describe()"
   ]
  },
  {
   "cell_type": "code",
   "execution_count": 6,
   "id": "d6b1d80b",
   "metadata": {
    "scrolled": false
   },
   "outputs": [
    {
     "data": {
      "text/plain": [
       "(77071, 12)"
      ]
     },
     "execution_count": 6,
     "metadata": {},
     "output_type": "execute_result"
    }
   ],
   "source": [
    "df.shape"
   ]
  },
  {
   "cell_type": "code",
   "execution_count": 7,
   "id": "7f78e5ef",
   "metadata": {
    "scrolled": false
   },
   "outputs": [
    {
     "data": {
      "text/plain": [
       "overall           77071\n",
       "verified          77071\n",
       "reviewTime        77071\n",
       "reviewerID        77071\n",
       "asin              77071\n",
       "style             36037\n",
       "reviewerName      77044\n",
       "reviewText        77060\n",
       "summary           77061\n",
       "unixReviewTime    77071\n",
       "vote               9620\n",
       "image              1719\n",
       "dtype: int64"
      ]
     },
     "execution_count": 7,
     "metadata": {},
     "output_type": "execute_result"
    }
   ],
   "source": [
    "df.count()"
   ]
  },
  {
   "cell_type": "code",
   "execution_count": 8,
   "id": "32817fe6",
   "metadata": {
    "scrolled": false
   },
   "outputs": [
    {
     "name": "stdout",
     "output_type": "stream",
     "text": [
      "<class 'pandas.core.frame.DataFrame'>\n",
      "RangeIndex: 77071 entries, 0 to 77070\n",
      "Data columns (total 12 columns):\n",
      " #   Column          Non-Null Count  Dtype \n",
      "---  ------          --------------  ----- \n",
      " 0   overall         77071 non-null  int64 \n",
      " 1   verified        77071 non-null  bool  \n",
      " 2   reviewTime      77071 non-null  object\n",
      " 3   reviewerID      77071 non-null  object\n",
      " 4   asin            77071 non-null  object\n",
      " 5   style           36037 non-null  object\n",
      " 6   reviewerName    77044 non-null  object\n",
      " 7   reviewText      77060 non-null  object\n",
      " 8   summary         77061 non-null  object\n",
      " 9   unixReviewTime  77071 non-null  int64 \n",
      " 10  vote            9620 non-null   object\n",
      " 11  image           1719 non-null   object\n",
      "dtypes: bool(1), int64(2), object(9)\n",
      "memory usage: 6.5+ MB\n"
     ]
    }
   ],
   "source": [
    "df.info()"
   ]
  },
  {
   "cell_type": "code",
   "execution_count": 9,
   "id": "022d8972",
   "metadata": {
    "scrolled": false
   },
   "outputs": [],
   "source": [
    "#get the number of reviews in the dataset \n",
    "num_reviews = len(df)"
   ]
  },
  {
   "cell_type": "code",
   "execution_count": 10,
   "id": "75293d86",
   "metadata": {
    "scrolled": false
   },
   "outputs": [],
   "source": [
    "# Get the average rating for the products in the dataset\n",
    "avg_rating = df[\"overall\"].mean()"
   ]
  },
  {
   "cell_type": "code",
   "execution_count": 11,
   "id": "249b24e9",
   "metadata": {
    "scrolled": false
   },
   "outputs": [],
   "source": [
    "# Get the most common rating\n",
    "most_common_rating = df[\"overall\"].value_counts().idxmax()"
   ]
  },
  {
   "cell_type": "code",
   "execution_count": 12,
   "id": "8ab1b0ff",
   "metadata": {
    "scrolled": false
   },
   "outputs": [],
   "source": [
    "# Get the least common rating\n",
    "least_common_rating = df[\"overall\"].value_counts().idxmin()"
   ]
  },
  {
   "cell_type": "code",
   "execution_count": 13,
   "id": "36b28bd6",
   "metadata": {
    "scrolled": false
   },
   "outputs": [],
   "source": [
    "# Get the average length of the review text\n",
    "avg_review_length = df[\"reviewText\"].str.len().mean()"
   ]
  },
  {
   "cell_type": "code",
   "execution_count": 14,
   "id": "4e704310",
   "metadata": {
    "scrolled": false
   },
   "outputs": [],
   "source": [
    "#Get the most common length of the review text\n",
    "most_common_length = df[\"reviewText\"].str.len().value_counts().idxmax()"
   ]
  },
  {
   "cell_type": "code",
   "execution_count": 15,
   "id": "65f2fa20",
   "metadata": {
    "scrolled": false
   },
   "outputs": [],
   "source": [
    "# Get the product with the most reviews\n",
    "most_reviewed_product = df[\"asin\"].value_counts().idxmax()"
   ]
  },
  {
   "cell_type": "code",
   "execution_count": 16,
   "id": "c43a4878",
   "metadata": {
    "scrolled": false
   },
   "outputs": [],
   "source": [
    "# Get the reviewer with the most reviews\n",
    "most_prolific_reviewer = df[\"reviewerID\"].value_counts().idxmax()"
   ]
  },
  {
   "cell_type": "code",
   "execution_count": 17,
   "id": "a100b21c",
   "metadata": {
    "scrolled": false
   },
   "outputs": [],
   "source": [
    "#Get the earliest and latest review dates\n",
    "earliest_review_date = df[\"reviewTime\"].min()\n",
    "latest_review_date = df[\"reviewTime\"].max()"
   ]
  },
  {
   "cell_type": "code",
   "execution_count": 18,
   "id": "a708bfa4",
   "metadata": {
    "scrolled": false
   },
   "outputs": [
    {
     "name": "stdout",
     "output_type": "stream",
     "text": [
      "Number of reviews: 77071\n",
      "Average rating: 4.524062228334912\n",
      "Most common rating: 5\n",
      "Least common rating: 2\n",
      "Average review text length: 241.05223202699196\n",
      "Most common review text length: 12.0\n",
      "Product with the most reviews: B0013BKDO8\n",
      "Reviewer with the most reviews: A3L1VJMHFWONCB\n",
      "Earliest review date: 01 1, 2008\n",
      "Latest review date: 12 9, 2017\n"
     ]
    }
   ],
   "source": [
    "# Print out the findings\n",
    "print(\"Number of reviews:\", num_reviews)\n",
    "print(\"Average rating:\", avg_rating)\n",
    "print(\"Most common rating:\", most_common_rating)\n",
    "print(\"Least common rating:\", least_common_rating)\n",
    "print(\"Average review text length:\", avg_review_length)\n",
    "print(\"Most common review text length:\", most_common_length)\n",
    "print(\"Product with the most reviews:\", most_reviewed_product)\n",
    "print(\"Reviewer with the most reviews:\", most_prolific_reviewer)\n",
    "print(\"Earliest review date:\", earliest_review_date)\n",
    "print(\"Latest review date:\", latest_review_date)"
   ]
  },
  {
   "cell_type": "code",
   "execution_count": 19,
   "id": "50301f34",
   "metadata": {
    "scrolled": false
   },
   "outputs": [],
   "source": [
    "max_product_reviews = df['asin'].value_counts().max()"
   ]
  },
  {
   "cell_type": "code",
   "execution_count": 20,
   "id": "a756dfaa",
   "metadata": {
    "scrolled": false
   },
   "outputs": [],
   "source": [
    "min_product_reviews = df['asin'].value_counts().min()"
   ]
  },
  {
   "cell_type": "code",
   "execution_count": 21,
   "id": "d4664b79",
   "metadata": {
    "scrolled": false
   },
   "outputs": [],
   "source": [
    "max_user_reviews = df['reviewerID'].value_counts().max()"
   ]
  },
  {
   "cell_type": "code",
   "execution_count": 22,
   "id": "78cf8938",
   "metadata": {
    "scrolled": false
   },
   "outputs": [],
   "source": [
    "min_user_reviews = df['reviewerID'].value_counts().min()"
   ]
  },
  {
   "cell_type": "code",
   "execution_count": 23,
   "id": "4e4d0b59",
   "metadata": {
    "scrolled": false
   },
   "outputs": [
    {
     "name": "stdout",
     "output_type": "stream",
     "text": [
      "Maximum number of reviews for a single product: 1229\n",
      "Minimum number of reviews for a single product: 1\n",
      "Maximum number of reviews written by a single user: 99\n",
      "Minimum number of reviews written by a single user: 2\n"
     ]
    }
   ],
   "source": [
    "print(f\"Maximum number of reviews for a single product: {max_product_reviews}\")\n",
    "print(f\"Minimum number of reviews for a single product: {min_product_reviews}\")\n",
    "print(f\"Maximum number of reviews written by a single user: {max_user_reviews}\")\n",
    "print(f\"Minimum number of reviews written by a single user: {min_user_reviews}\")"
   ]
  },
  {
   "cell_type": "code",
   "execution_count": 24,
   "id": "7400fcb1",
   "metadata": {
    "scrolled": false
   },
   "outputs": [
    {
     "data": {
      "image/png": "[encoded data removed]",
      "text/plain": [
       "<Figure size 640x480 with 1 Axes>"
      ]
     },
     "metadata": {},
     "output_type": "display_data"
    }
   ],
   "source": [
    "# Visualize the distribution of the number of reviews across products\n",
    "product_review_counts = df['asin'].value_counts()\n",
    "plt.hist(product_review_counts, bins=50, log=True)\n",
    "plt.xlabel(\"Number of reviews per product\")\n",
    "plt.ylabel(\"Number of products\")\n",
    "plt.title(\"Distribution of reviews across products\")\n",
    "plt.show()"
   ]
  },
  {
   "cell_type": "code",
   "execution_count": 25,
   "id": "4a9c004e",
   "metadata": {
    "scrolled": false
   },
   "outputs": [
    {
     "data": {
      "image/png": "[encoded data removed]",
      "text/plain": [
       "<Figure size 640x480 with 1 Axes>"
      ]
     },
     "metadata": {},
     "output_type": "display_data"
    }
   ],
   "source": [
    "# Visualize the distribution of the number of reviews per product\n",
    "reviews_per_product = df.groupby('asin')['overall'].count()\n",
    "plt.hist(reviews_per_product, bins=50, log=True)\n",
    "plt.xlabel(\"Number of reviews\")\n",
    "plt.ylabel(\"Number of products\")\n",
    "plt.title(\"Distribution of reviews per product\")\n",
    "plt.show()"
   ]
  },
  {
   "cell_type": "code",
   "execution_count": 26,
   "id": "055b5f2f",
   "metadata": {
    "scrolled": false
   },
   "outputs": [
    {
     "data": {
      "image/png": "[encoded data removed]",
      "text/plain": [
       "<Figure size 640x480 with 1 Axes>"
      ]
     },
     "metadata": {},
     "output_type": "display_data"
    }
   ],
   "source": [
    "# Visualize the distribution of reviews per user\n",
    "reviews_per_user = df.groupby('reviewerID')['overall'].count()\n",
    "plt.hist(reviews_per_user, bins=50, log=True)\n",
    "plt.xlabel(\"Number of reviews per user\")\n",
    "plt.ylabel(\"Number of users\")\n",
    "plt.title(\"Distribution of reviews per user\")\n",
    "plt.show()"
   ]
  },
  {
   "cell_type": "code",
   "execution_count": 27,
   "id": "6dd9406c",
   "metadata": {
    "scrolled": false
   },
   "outputs": [
    {
     "data": {
      "image/png": "[encoded data removed]",
      "text/plain": [
       "<Figure size 640x480 with 1 Axes>"
      ]
     },
     "metadata": {},
     "output_type": "display_data"
    }
   ],
   "source": [
    "# Visualize the distribution of ratings\n",
    "ratings_counts = df['overall'].value_counts()\n",
    "plt.bar(ratings_counts.index, ratings_counts.values)\n",
    "plt.xlabel(\"Rating\")\n",
    "plt.ylabel(\"Number of reviews\")\n",
    "plt.title(\"Distribution of ratings\")\n",
    "plt.show()"
   ]
  },
  {
   "cell_type": "code",
   "execution_count": 28,
   "id": "88412593",
   "metadata": {
    "scrolled": false
   },
   "outputs": [],
   "source": [
    "new = df['reviewTime'].str.split(\",\", n = 1, expand = True)\n",
    "df['year'] = new[1]"
   ]
  },
  {
   "cell_type": "code",
   "execution_count": 29,
   "id": "1d2ad517",
   "metadata": {
    "scrolled": false
   },
   "outputs": [],
   "source": [
    "# Concatenating review text and summary\n",
    "df['reviewText'] = df['reviewText'].str.cat(df['summary'], sep=' ')"
   ]
  },
  {
   "cell_type": "code",
   "execution_count": 30,
   "id": "f1f3b3ca",
   "metadata": {
    "scrolled": false
   },
   "outputs": [],
   "source": [
    "# Removing unnecessary columns\n",
    "df = df.drop(['style','vote','image','summary','unixReviewTime','reviewTime','reviewerName'], axis=1)"
   ]
  },
  {
   "cell_type": "code",
   "execution_count": 31,
   "id": "169868af",
   "metadata": {
    "scrolled": false
   },
   "outputs": [
    {
     "data": {
      "text/html": [
       "<div>\n",
       "<style scoped>\n",
       "    .dataframe tbody tr th:only-of-type {\n",
       "        vertical-align: middle;\n",
       "    }\n",
       "\n",
       "    .dataframe tbody tr th {\n",
       "        vertical-align: top;\n",
       "    }\n",
       "\n",
       "    .dataframe thead th {\n",
       "        text-align: right;\n",
       "    }\n",
       "</style>\n",
       "<table border=\"1\" class=\"dataframe\">\n",
       "  <thead>\n",
       "    <tr style=\"text-align: right;\">\n",
       "      <th></th>\n",
       "      <th>overall</th>\n",
       "      <th>verified</th>\n",
       "      <th>reviewerID</th>\n",
       "      <th>asin</th>\n",
       "      <th>reviewText</th>\n",
       "      <th>year</th>\n",
       "    </tr>\n",
       "  </thead>\n",
       "  <tbody>\n",
       "    <tr>\n",
       "      <th>0</th>\n",
       "      <td>5</td>\n",
       "      <td>True</td>\n",
       "      <td>A1JB7HFWHRYHT7</td>\n",
       "      <td>B0000223SI</td>\n",
       "      <td>This worked really well for what I used it for...</td>\n",
       "      <td>2017</td>\n",
       "    </tr>\n",
       "    <tr>\n",
       "      <th>1</th>\n",
       "      <td>5</td>\n",
       "      <td>True</td>\n",
       "      <td>A2FCLJG5GV8SD6</td>\n",
       "      <td>B0000223SI</td>\n",
       "      <td>Fast cutting and good adheasive. Good paper.</td>\n",
       "      <td>2017</td>\n",
       "    </tr>\n",
       "    <tr>\n",
       "      <th>2</th>\n",
       "      <td>5</td>\n",
       "      <td>False</td>\n",
       "      <td>A3IT9B33NWYQSL</td>\n",
       "      <td>B0000223SI</td>\n",
       "      <td>Worked great for my lapping bench.  I would li...</td>\n",
       "      <td>2017</td>\n",
       "    </tr>\n",
       "    <tr>\n",
       "      <th>3</th>\n",
       "      <td>4</td>\n",
       "      <td>True</td>\n",
       "      <td>AUL5LCV4TT73P</td>\n",
       "      <td>B0000223SK</td>\n",
       "      <td>As advertised As advertised</td>\n",
       "      <td>2018</td>\n",
       "    </tr>\n",
       "    <tr>\n",
       "      <th>4</th>\n",
       "      <td>5</td>\n",
       "      <td>True</td>\n",
       "      <td>A1V3I3L5JKO7TM</td>\n",
       "      <td>B0000223SK</td>\n",
       "      <td>seems like a pretty good value as opposed to b...</td>\n",
       "      <td>2017</td>\n",
       "    </tr>\n",
       "  </tbody>\n",
       "</table>\n",
       "</div>"
      ],
      "text/plain": [
       "   overall  verified      reviewerID        asin  \\\n",
       "0        5      True  A1JB7HFWHRYHT7  B0000223SI   \n",
       "1        5      True  A2FCLJG5GV8SD6  B0000223SI   \n",
       "2        5     False  A3IT9B33NWYQSL  B0000223SI   \n",
       "3        4      True   AUL5LCV4TT73P  B0000223SK   \n",
       "4        5      True  A1V3I3L5JKO7TM  B0000223SK   \n",
       "\n",
       "                                          reviewText   year  \n",
       "0  This worked really well for what I used it for...   2017  \n",
       "1       Fast cutting and good adheasive. Good paper.   2017  \n",
       "2  Worked great for my lapping bench.  I would li...   2017  \n",
       "3                        As advertised As advertised   2018  \n",
       "4  seems like a pretty good value as opposed to b...   2017  "
      ]
     },
     "execution_count": 31,
     "metadata": {},
     "output_type": "execute_result"
    }
   ],
   "source": [
    "df.head()"
   ]
  },
  {
   "cell_type": "code",
   "execution_count": 32,
   "id": "56957ff9",
   "metadata": {
    "scrolled": false
   },
   "outputs": [
    {
     "name": "stdout",
     "output_type": "stream",
     "text": [
      "Largest review length: 32223\n"
     ]
    }
   ],
   "source": [
    "# removing NaN values from reviewText\n",
    "df['reviewText'] = df['reviewText'].fillna('')\n",
    "\n",
    "#getting the largest review length\n",
    "largest_review_length = df['reviewText'].apply(len).max()\n",
    "print(\"Largest review length:\", largest_review_length)"
   ]
  },
  {
   "cell_type": "code",
   "execution_count": 33,
   "id": "db81db6c",
   "metadata": {
    "scrolled": true
   },
   "outputs": [
    {
     "name": "stdout",
     "output_type": "stream",
     "text": [
      "Largest review:\n",
      "FOR OPERATING A REFRIGERATOR (or freezer ) ONLY..\n",
      "STEP BY STEP (complete directions)..\n",
      "\n",
      "UPDATE:  081511:\n",
      "\n",
      "MOUNTED ON THE FRIG:\n",
      "Added pictures of how I mounted it to the FRIG..  I did this as an after thought, and have a ton of regrets on the \"mounting\" design pictured (so I can tell you a whole bunch of ways to improve on this)..  The mount is simple PVC plastic plumbing pipes (used one step spray paint made for plastic and metal, $4)..  First, don't do the complicated \"F\" shape (shape of the assembled pipes) with all the \"T\" fittings and elbows I used (because you cant thread the thermostat thru the fittings, and they are unnecessary anyway)..  If you look at the picture, note that I used T fittings to make it stand off the FRIG an inch or so..  This added a lot of complication for no reason whatsoever..  FOR YOURs simple make a F, or C shape with 1\" PVC pipes, and the part that touches the frig will be nothing but a pipe (no fittings on it)..  Drill hole thru pipes for mounting (drill pilot hole thru frig sheet metal, then use sheet metal screws..\n",
      "\n",
      "IMPORTANT NOTE:\n",
      "There is always the possability you could damage your FRIG drilling thru it..  You would be taking that chance..  I drilled away from the electrical stuff on the frig (and drilled thru insulation as I expected)..\n",
      "\n",
      "TIPS:\n",
      "USE 1\" PVC:  I used 3/4, and its way too wiggly..  1\" should work better.. PVC is strong, and 1\" should be large enough to thread the thermostat thru..  You will need reducer to 1/2\" at the end to mount the box with 1/2 nipple)..  Dont mix the thermostat line with electrical wires (you can do it, but dont)..  INSTEAD of saving $2 on the 3 hole box (down on the shopping list), get the box with more holes..  Try to use T fittings where the thermostat will get threaded thru (may not fit thru an elbow)..\n",
      "\n",
      "F SHAPE:\n",
      "Use (F upside down) if you have a short FRIG, and you want to mount the etc higher (mine is an F)..  You can add a T fitting hear the top to have a place to run the thermostat wire (or drill a hole thru the pipe)..\n",
      "\n",
      "C SHAPE:\n",
      "On a  tall FRIG, get two 1/2 plastic male thread fittings, and glue them to male two identical L shapes (of PVV pipes)..  Assemble them to the box and you have a C shape (ready to mount to FRIG)..\n",
      "\n",
      "THERMOSTAT:\n",
      "Run it thru the PVC pipes..  It doesnt have to be concealed completely like a commercial application..  In the pic you can see mine hanging over the top then entering the pipes.. I used rubber hose (drilled out so the thermostat would fit)..  Drilling out a rubber hose turned out to be a lot of work.. I am not sure what to tell you here for drilling a hole thru the FRIG to mount the thermostat inside FRIG..  But if you do not have some way to protect the thermostat wire from the sharp metal in the hole we will drill, it will probably eventually fail and short circuit)..  Using a rubber hose was a pain..  You might try finding a plastic hose (so the inside would be bigger).. But the outside of the hose will be the size of the hole you need to drill..  Then simply slide the protective hose thru the hole (thermostat wire goes thru the hose)..  My  rubber hose is holding itself in place  by luck..  You may need some kind of caulk or something to hold the protective hose in place (maybe a dash inside the hose too to help keep the cold air inside)..  I would use silicone (not sure what is food safe.. probably none of the caulks are for food contact..\n",
      "\n",
      "~~~~~~~~~~~~ end UPD\n",
      "\n",
      "UPDATE:  080711:\n",
      "\n",
      "Plugged mine in and it works perfectly..  I remember getting hung up on the long wire to drape over both sides of the FRIG..  Silly me, LOL I have a freezer chest..  At least the long wires on both sides will give me the wire I need to put it somewhere convenient (so I still firmly believe longer wires are better than getting stuck too short)..  I wish now I would have paid $2 more for a box with more holes, then I could have easily attached the box to the rear of the freezer and place it at eye level with 3 pieces of water pipe..  Hell, maybe I could use the same mounting pipe to conceal the thermostat probe (drill a hole into the freezer box that enters exactly where the pipe attaches)..\n",
      "\n",
      "end: RANCO ETC UPDATE:  080711:\n",
      "end: RANCO ETC UPDATE:  080711:\n",
      "\n",
      "I strongly suggest printing this out if you want to follow this procedure..  I tried to lay it out linear (do it from start to finish)..  Take the printout with you for the shopping list..\n",
      "\n",
      "I was unable to add pictures directly to this review, but I was able to add pictures to the main page for the ranco ETC.. I will note in the text below when to look at a picture..\n",
      "\n",
      "I bought a \"freezer\" chest because when you open it the cold air stays in (condensation is reduced, and energy efficiency increased)..  The disadvantage is if you are doing wine or beer and its too heavy for you to lift out..  Also, I got a freezer specifically, so I can use it as either a FRIG \"or\" freezer later using the ETC control if I choose..\n",
      "\n",
      "I am elated there exists such a device for people like me that want to optimize flavor fermenting sauerkraut and for winemaking / beer brewing..  So, here is detailed help for anyone intimidated about wiring their own.. I will monitor for questions or corrections that may need to be made (but amazon takes a day or two to post corrections)..  Unfortunately this has become \"very\" verbose in an attempt to me more clear .. My goal was to give the ability to wire the ETC, to the complete electrical novice..  But people who already know how to wire should skim thru for the tips to wire it perfectly (the only thing I left off was a fuse; which if you want commercial quality, simply add a 15A fuse into the ckt)..  These notes are on details that are not in the directions that came with the rancho etc, but someone who knows how to do wiring could figure it out..  I am an avid tinkerer of things, so I think I can take the mystery out of how to wire it, and set it up for actual commercial use instead of hoping it works..  There is a shopping list below, of things you already need to buy; so adding $10-20 to the total cost is money well spent to do a fantastic job over a mediocre job (so plan on buying $40 worth of electrical parts, instead of $20-25?)..  When wired optimally, the heavier gauge wires will dissipate heat better which protects the sensitive electronics, and allows you to later hook the rancho etc up to a very large FRIG if you decide to, because you used higher capacity wiring..  And paying $18 instead of $12 for the extension cord sets you up so you don't need to use yet another extension cord later if the plug in is too far away, and gives you the slack you need to plug the FRIG in without pulling the ETC off the FRIG..\n",
      "\n",
      "I HOPE I DONT GET  A LEMON:\n",
      "As some reviewers complained..  Perhaps they installed this wiring incorrectly (there are ways to screw it up)..  Perhaps the probe was damaged (it is replaceable I believe)..  Common sense says the probe should be near what you want to control,and not in a corner so it will be open to circulating air..  I do not know if we would be better off putting the probe right on the crock... Because I feel TEMP probes tend to be delicate..  Also, see the BULLETIN below about TEMP swings, and compressor protection (this could be another area where people may be having problems)..  Yet another thing that can go wrong is if pieces of copper wire get into the box when wiring it up (you need to \"know\" where the little pieces went when clipping the wires)..\n",
      "\n",
      "COMPRESSOR PROTECTION ?\n",
      "ETC NOT WORKING PROPERLY ?\n",
      "\n",
      "READ THIS IF YOU WANT TO maximize the lifespan of your FRIG (or if the FRIG is not holding the TEMP range the ETC setting is calling for)..  Some troubles may \"not\" be the fault of the ETC, rather the limited capability of the FRIG itself..  The ETC has no ability to control the compressor cycle time (protect the compressor from damage by turning on too soon after it just ran)..  My first thought was that the FRIG controls would already have this protection function built into its own controls if needed..  But perhaps this is the reason for some of the negative reviews (and no one realized what is happening)..  Few people are complaining, and I saw no complaints of a broken FRIG (although this sort of thing may shorten the life of the FRIG (or it may not; I am choosing to risk it myself)..  I imagine (I don't really know), depending on the design of the refrigerator, the FRIG temp range swing might be part of that protection design (in this particular case, we would have a problem), because the ETC indeed does \"force\" onto the FRIG a new TEMP RANGE..  The ETC can be set to control within 1-DEGREE, which I doubt any FRIG will do on its own..  The ETC is an electrical relay that functions like kid plugging, then unplugging the FRIG frequently to keep the TEMP range setting..  If you are curious, or have a problem with the TEMP control, I suggest you put the ETC temp probe in the FRIG, but do not control the FRIG with the ETC..  Then simply watch the TEMP range (I \"think\" you can check the temp this way) to see how the FRIG was designed to operate (if not broken, which the ETC could not cure anyway)..  Then add the ETC back to control the FRIG TEMP..  And tweak back the ETC setting a degree or two tighter (IE: control the TEMP range swing not to 1 or 2 degrees, but closer to the temp swings that the FRIG wants to do on its own), and then you will see if the problem goes away (if it does go away, you can tighten up the ETC temp range one more degree at a time and you will eventually know how far you can push your FRIG)..\n",
      "WHY 1 DEGREE TEMP RANGE ANYWAY:\n",
      "For SAUER KRAUT I plan to use 3 degrees range to keep the TEMP exactly in the TEMP range given by Harsch (minus 1 degree colder to account for the possible spontaneous heating of the crock caused by fermentation).. I feel there is no reason to keep the temp so tightly controlled, because TEMP swings are common in nature..  But, I am interested if anyone has any theories that the end result might taste better..  MY KRAUT: 2-3 days at 20-22C (68-72), then 15-18C (59-64 F.) for 4-6 weeks..\n",
      "\n",
      "Wiring the ETC according to these directions sets everything up to put the ETC control on tof of the frig (but alternately you can put it somewhere else because there will be a longish cord on either end..\n",
      "\n",
      "TOOLS:\n",
      "TOOLS:\n",
      "TOOLS:\n",
      "\n",
      "Screwdriver, electrical pliers, regular pliers too, knife or razor (and you can get by with a knife if you do not have electrical pliers, but you will still need wire cutters.. an old fingernail cutter will probably work to get a clean snip)..  You will need a smaller than normal screwdriver, because a full size one will not fit the ETC..\n",
      "\n",
      "SHOPPING LIST:\n",
      "SHOPPING LIST:\n",
      "SHOPPING LIST:\n",
      "\n",
      "25 FOOT 14 GAGUE EXTENSION CORD:\n",
      "You are spending $6 more for this longer heavier cord..  A little too long is always better than too short..  I strongly suggest you buy an extension cord as close to this one as you can (because the compression connectors and finicky.. the round diameter of the cord is what is needed to make it work)..  I bought a HUSKY, round medium duty indoor/outdoor 14 gauge extension cord..  14 GAUGE is the same wire gauge a 15a house wiring uses, so it should easily handle any FRIG as a load (rather than overloading which leads to premature failure of electrical devices, or possibly fire)..\n",
      "\n",
      "DBL GANG (SQUARE) OUTDOOR ELECTRICAL BOX: (and cover):\n",
      "Costs $9-10..  Get 1/2 inch size (refers to holes in box)..  Also get a plain square metal cover..  Get 3 hole (cheaper)..  NOTE: if you are planning to install to frig, get the box with more holes..\n",
      "\n",
      "ELECTRICAL CONNECTORS:\n",
      "3 RED twist ties, and 2 YELLOW twist tie connectors..  The ones with the little wings are easier to use..\n",
      "\n",
      "COMPRESSION FITTINGS:\n",
      "Buy two of these (one for each cut end of the extension cord..  See the notes for the extension cord to buy (above)..  I suggest you ask the store clerk for help with the connectors (because the compression fittings can be confusing, and there are so many to choose from, so it will save time to locate them)..  The size .260-.375 worked perfectly on mine..  The compression connector looks more finished, and more importantly protects the extension cord from damage..  The type of compression fitting will be the one with a larger rubber chunk, rather than a little plastic or rubber ring only..\n",
      "\n",
      "FITTING TO CONNECT THE ETC TO THE DBL GANG BOX:\n",
      "You are going to have to piece things together here..\n",
      "~1~  Buy a 1/2 pipe nipple (that screws into the center hole on the DBL GANG BOX)..\n",
      "~2~  Buy a bag of 3 or more 1/2 - 3/4 reducing washers (in the electrical stuff)..\n",
      "~3~  Buy a standard lock washer..\n",
      "\n",
      "JUMPERS:\n",
      "BUY 14 GAUGE SOLID COPPER..\n",
      "YOU NEED: 1-green (or bare), 2 blacks 1-red and 1-white (a foot or a little less long.. I used about 8 inches)..  These wires are to extend from the DBL GANG BOX to the ETC BOX (JUMPERS)..  At home depot you can buy this wire by the foot..  First choice is to buy individual solid copper wires in all the colors you need..  Else buy a multi cable with several colors inside so all you need to do is cut it up (avoid buying stranded wires, unless you have a soldering iron needed to tin the ends.. because stranded and stranded don't do well together in the wire nut connectors)..\n",
      "\n",
      "IF YOU REALLY WANT TO SAVE $5-10 or so:\n",
      "Don't, LOL..  If you get extension and jumper wires both 14 gage, it will strong enough to handle \"all\" the current a 15A plugin can put out..  But, 20A fuses are sometimes found in kitchens too (and you would need 12 gage wire to handle a 20A ckt)..  But, the ETC in this application is only going to operate a FRIG..  So 16 gauge probably OK if you really really want to save a few dollars, because 16 gauge should be able to handle 13-14 AMPS, which I feel sure would be ok for a normal FRIG..  But as mentioned before 14 gauge will give you handle a large FRIG Should you choose inthe future, and dissipate heat better (which may be cheaper if this saves your ETC, or FRIG from a break down)..  Also, if you choose 16 gauge the compression fittings are finicky, and probably will not work, and these are a nice touch to doing a good job..\n",
      "\n",
      "FUSE:\n",
      "I did not add a fuse to mine..  You can add one if you want an additional layer of perfection and safety..  Typically commercial use things will have these fuses rather than home use things (I mean you would basically be putting a fuse on an extension cord, and who does that)..  Home depot did not have this part, or I might have picked one up..  They said to try fries, but maybe radio shack would have some kind of fuse..  I wanted something on the outside of the box like a fuse button, rather than a fusible link that would end up hidden in the DBL GANG BOX..  Wire the fuse in series with the black power wire coming from the plug-in side (series means cut the black wire only and add the fuse)..\n",
      "\n",
      "FEET (and screws):\n",
      "FEET (and screws):\n",
      "The box will scratch the FRIG without these feet..  You will need 4-feet.. Get the rubber ones in the picture (you should be able to identify them at the store)..  Here is the story here..  I forced the sheet metal screws that came with the feet, and they barely worked..  The rubber starts to curl up (with screw about to pop thru the rubber which means the rubber falls off, just as the screw goes in deep enough to do its job)..  Since I already stripped the holes in mine, I will have to buy longer sheet metal screws, and then add the washers..\n",
      "DO THIS INSTEAD:\n",
      "DO NOT use the screws that come with the rubber feet..  Instead buy 4 screws (round head machine screw that fits in the DBL GANG BOX HOLE without stripping the threads)..  I do not know the exact screw size because I did not use these (just carry the box over to the hardware section and get the right screw)..  The length needs to be 3/4\" or longer (can be deep as the box allows)..  Also buy 4 washers (same size as the screw.. size #6 or #8.. I cant remember)..  POP the washers into the rubber so the screw doesnt pull thru (if the washers you find are too small, you can probably find other styles of washers that will work)..  Or, it may be easier to get sheet metal screws (and strip the threads out when you force them in), because these can be found with heads large enough to fit the rubber feet..\n",
      "NOTE: After all this screwing around with the feet, I ended up permanently mounting mine on the frig (so the feet are hanging in the air, LOL)..\n",
      "\n",
      "USEFUL INFO:\n",
      "USEFUL INFO:\n",
      "USEFUL INFO:\n",
      "\n",
      "BLACK: hot (smaller slot on plug in).\n",
      "WHITE: neutral (larger slot in plug-in)..\n",
      "GROUND (bare or green):\n",
      "\n",
      "CONNECTOR BLOCKS INSIDE THE ETC:\n",
      "THE UPPER RIGHT TERMINAL BLOCK:  Gets power from the house plug (white and black 120v where white is the common)..\n",
      "\n",
      "THE LOWER LEFT TERMINAL BLOCK:  Is a simple relay that actuates according to the temp control setting of the ETC (the common terminal here is a hot=black wire jumper)..  When the relay actuates, the hot then gets connected to the NO (normally open) terminal which turns on the FRIG compressor (for this wiring setup)..  We connect the RED wire to the FRIG to the NO (middle) terminal..\n",
      "\n",
      "ADD THE CONNECTORS TO THE ELEC BOXS:\n",
      "ADD THE CONNECTORS TO THE ELEC BOXS:\n",
      "ADD THE CONNECTORS TO THE ELEC BOXS:\n",
      "\n",
      "USE THIS TECHNIQUE FOR ALL ELEC CONN:  Tighten by hand, then crank it with regular pliers until it is satisfyingly snug..  Generally the rule of thumb if to tighten it tight enough so that it is difficult if not impossible to remove by hand..\n",
      "\n",
      "CUT THE EXTENSION CORD:\n",
      "Cut 10 foot from the end where the FRIG will plug in (so it will drape from the top of the FRIG to the floor (the other end of the extension cord drapes off the other side so it helps hold the ETC in place rather than dragging it off onto the floor)..  The remainder is 15 feet for the plug in end to hunt for an outlet (which really is not too long after it travels 5-8 feet down the side of the FRIG)..\n",
      "\n",
      "STRIP THE SHEATH:\n",
      "This is probably the trickiest part, because this is where you can screw up and \"easily\" cut to bare wire (\"really\" take your time here.. lightly score then pull and twist by hand to deepen the scores.. score a little more repeat)..  You have to remove about 6\" of the sheath from each end of the extension cord you cut (to break out the individual wires)..  How to  do this is to bend the whole cord sharply, then very carefully score with a razor blade/knife at the bend where there is stress on the casing (DO NOT CUT TOO DEEP (not even all the way thru the sheath covering) a simple score (think glass or diamond cutting) will make it so you can pull, and the casing should come off in your hand)..  You can carefully grip near the score mark with pliers, and sometime the sheath comes off easier this way..\n",
      "\n",
      "CUT UP THE JUMPERS:\n",
      "Locate the 14-gauge wires you bought, and simply cut up 2-BLACK, 1-WHITE, 1-RED, 1-GREEN or bare (you can strip all the insulation off one of the other colors to get a bare wire) ~~~ 10\" - 12\" long each (I cut mine a little short, and sure enough it made considerable more work for me)..  Strip the casing off only one end now (strip the 1/3 inch end only) to expose the copper wire (elec pliers make this part very easy; else this will be a little tedious with a razor blade.. if you don't have elec pliers, cut rather gently so you don't gouge the wire too bad (if you score and pull it somewhat works like removing the sheath above)..  One end should be 5/8 - 3/4 inch (strip these later as you wire), the other end should be about 1/3 inch..\n",
      "\n",
      "TIGHTEN EXTENSION CORD INTO COMPRESSION FITTINGS:\n",
      "Open up the compression fitting (the parts get in the way so remove them now)..  Note the direction of the rubber piece (the cone shaped part of the rubber needs to meet the same cone shape metal)..  Screw the compression fittings into the already threaded holes 180 degrees apart on the DBL GANG BOX.  Warning, I scratched my box with the pliers (easy to do because the grip is so small)..  Crank with pliers until you can not budge them by hand..  Slide the pieces over the extension cord, and then insert the extension cord so the sheath extends into the DBL GANG BOX (MAKE SURE YOU PULL IN 8 INCHES LONG TOTAL INSIDE THE BOX, or it makes more work for you)..  Tighten with pliers and monitor so you know when the compression starts grabbing the wire..  Then keep tightening until you cannot pull it out by hand (you may need to tighten these quite a bit)..\n",
      "\n",
      "IF YOU HAVE PROBLEMS WITH COMPRESSION FITTING:\n",
      "These can be a PITA (good luck, they can be finicky), so first make sure you have the right size compression fitting (there are at least two sizes)..  If this fails too, I would try to insert a wire bet in a sharp V shape to take up more space inside the rubber compression part (but MAKE SURE THE COPPER IS OUTSIDE THE BOX.. in other words only the non conductive wire casing can be \"inside\" the elec box)..  Worst case scenario is to replace these with simple romex connectors (that look bad, and can break the casing of the extension cord; if you use this option, monitor to know when the ext cord snugs up in the fitting, and tweak it only a little more tight)..\n",
      "\n",
      "THIS 180 DEGREE DESIGN WAS CHOSEN:\n",
      "To allow us to drape the extension cord over the FRIG 180 degree apart, so the wires hanging over both sides of the FRIG will help hold the ETC in place rather than dragging it off onto the floor..\n",
      "\n",
      "ATTACH ETC TO THE DBL GANG BOX:\n",
      "ATTACH ETC TO THE DBL GANG BOX:\n",
      "ATTACH ETC TO THE DBL GANG BOX:\n",
      "\n",
      "We need a little special care here for two reasons..  In the case of the plastic ETC box, if you get it too tight, it will weaken the plastic over time, and BAM, it may break apart later as the stress deteriorates the integrity of the plastic..  So tighten until its only a little snug and not wobbly (if a kid tried hard, they would be able to unscrew it by hand)..  When I tightened mine to the directions below, I noticed I was able to turn (adjust) the etc box, without the lock washer unscrewing itself, which is what you hope for)..  I think the washers made this lucky thing happen..  Second reason is we need a spacer BT the box's so that the casing of the ETC can be screwed back on without binding when done (and the etc can be adjusted to turn right or left without scraping the other box)..\n",
      "\n",
      "Screw the 1/2\" nipple into the center threaded hole on the back of the DBL GANG BOX..  I found a paper towel folded a lot, was enough to protect the threads from the pliers (if you don't protect the threads, it may be much more difficult to to do the final tightening later)..  Screw it in kind of tight (better to protrude more into the DBL GANG BOX)..\n",
      "\n",
      "HOW TO STACK THE WASHERS BETWEEN THE BOXES..  This is a little tricky, so find the picture I added to the main page of the ETC..  The caption in the PIC says the following: Copy this one exactly, so the lock washer will allow you to pivot the ETC without loosening the lock washer..  NOTE the 2 washers between the two boxes (the larger side of each washer is touching the other)..  Then the larger part of the washer inside the ETC box is touching the plastic.  The LOCK WASHER teeth point into the washer..\n",
      "\n",
      "The reducing washers go against the plastic to protect the plastic from the lock washer teeth..  I am not sure which is best way to face these washers, but the exact way it was done in the picture works great.. The two washers between the BOXES separate them slightly (so the screws will not bind when attaching the ETC cover later)..\n",
      "\n",
      "IT MAY BE DIFFICULT TO TIGHTEN THE LOCK WASHER..  I felt lucky I was able to get my pliers on it..  If you cant tighten it with pliers, you can get a hammer and screwdriver (or punch) and tap on the lock washer to tighten it..\n",
      "\n",
      "I was able to turn my ETC to adjust which way I wanted it to face..  I did tighten it enough so it was kind of hard to turn..  It would be possible for a kid to keep twisting it in the same direction until it breaks the wires inside (kids can break anything though)..  With the larger DBL GANG BOX, and the combination of stranded wires used, you should be able to twist this thing back and fourth 180-360 degrees all you want with no damage to the wires (as the stranded are flexible)..  The only concern is that the metal lock washer might someday lose its lock and then the whole box would start to become lose and wobbly (no deal breaker, just open it up and tighten it.. or not)..\n",
      "\n",
      "WIRING THE ETC : informational:\n",
      "WIRING THE ETC : informational:\n",
      "WIRING THE ETC : informational:\n",
      "\n",
      "Dont do this part yet (informational).  You need a small screwdriver to tighten the ETC screws..  We used a separate box (to make a base for the ETC to stand on) and because it will be much easier to slide wires to adjust the needed length into the ETC box (and have a much better feel when the wire is actually in the connector)..  Notice the length of the bare copper into the ETC BOX terminals..  Snip the copper all the same length so no more than 1/4\" of bare copper is visible, yet the copper is visible so you know the metal is clamping down on the wire..  Tighten these down (same technique; when wire is snug, tighten a little more than test that you cannot pull out the wires easily)..  This procedure helps you not break the etc terminal, which would kill your day until you could get a new ETC unit..\n",
      "\n",
      "TERMINAL SCREW NOTE:\n",
      "The screws that tighten the wires in the ETC terminals are tricky..  You still turn the screwdriver clockwise to tighten, but expect the metal clamp to move \"up\" to clamp onto the wire..  What is tricky is that when you turn the screw counter clock wise to open up the hole, it appears above where you think it should be..\n",
      "\n",
      "IMPORTANT !!!\n",
      "IMPORTANT !!!\n",
      "IMPORTANT !!!\n",
      "Be careful when snipping wires (thorough this entire procedure) so that pieces of conductive copper do not end inside the electrical box's (this happens all the time, and this is very bad for obvious reasons)..  Little pieces of copper can short the main power.. And even the smallest little shard of a strand can easily burn out the $60 ETC electronics..\n",
      "\n",
      "HOW TO CONNECT THE WIRES:\n",
      "HOW TO CONNECT THE WIRES:\n",
      "HOW TO CONNECT THE WIRES:\n",
      "\n",
      "Wait until you are installing the twist connector to strip the ends off the wires (because you typically snip the wires to the length you want at this point anyway)..\n",
      "\n",
      "If any of the wires go to the ETC box then install the JUMPERS into the ETC terminal first (then gather the wires to install the twist connector)..  Strip the ends 1/3 inch, then stick the wire thru the hole into the ETC terminal and tighten down the screw..\n",
      "\n",
      "Find all the wires that will be wire tied together and cut to the same length (whatever length you feel is convenient to add the wire tie)..  Strip the wires and install the twist connector..\n",
      "\n",
      "ALL SOLID COPPER JUMPERS TRAVEL FROM THE DBL GANG BOX INTO THE ETC BOX..\n",
      "USE YELLOW TWIST CONNECTORS: for 2 wires..\n",
      "USE ~ RED ~ TWIST CONNECTORS: for 3 wires..\n",
      "\n",
      "EVERY TIME YOU CONNECT A WIRE,\n",
      "into a connector or terminal, \"monitor\" when the wires snug up by pulling lightly on the wire (or \"ALL\" the wires if a twist connector)..  When you find the wire (wires) are starting too hold together, then twist a few more times, then verify that the wires cannot be pulled out by hand..  This may sound tedious, but its easy, and if you dont, there will probably be a bad connection that will haunt you and make the equipment act flakey down the road..  I hate to suggest this, because tightening these twist connectors with your fingers is should be adequate..  But I cheat and \"gently\" hold all the wires with the pliers to get the last turn..  IF YOU DO THIS, MAKE SURE YOU DO NOT DAMAGE THE WIRE CASINGS (I guess you could add electrical tape if you need to)..\n",
      "\n",
      "HOW TO STRIP THE ENDS OF THE EXTENSION CORD WIRES:\n",
      "The solid wires are easy to strip (so here is how to do the stranded ones)..  Strip to 3/4 inch (or a pinch longer because stranded wires pull up slightly when you tighten them)..  The elec pliers most people have are for solid copper, not stranded, so use one gauge larger to strip the ends (or you \"will\" shave off the copper strands of the wires)..  The plastic is usually soft on these, so you can swirl the wire in a circular shape (in the larger gauge hole of the pliers) to strip the ends..  If you only have a knife be extra careful stripping the ends because the thin strands are very easy to cut when you score..  Fortunately, the casing on these is usually easier to remove (so lightly score and pull with fingers usually works)..\n",
      "\n",
      "INSTALL CONNECTOR on :::::: SOLID:\n",
      "Hold solid copper together with the ends even and twist the connector on..\n",
      "\n",
      "INSTALL CONNECTOR on :::::: SOLID TO STRANDED:\n",
      "These are a little trickier..  Twist each individual stranded wire tip to make it act more like a solid wire..  When you hold the ends together to attach the twist connector, the ends of the stranded should be slightly longer than the copper, slightly overlapping (longer than the solid) but we are only talking 1/16 inch (or less)..  Solid to stranded is trickier, so if it fails (you find you can pull it out with your fingers), try again (until you can not pull the wires out by hand)..  There is extra length in the wires, so it it fails twice, then cut off the frayed ends (1 inch), and try again..\n",
      "\n",
      "BEGIN ACTUAL WIRING CONNECTIONS:\n",
      "BEGIN ACTUAL WIRING CONNECTIONS:\n",
      "BEGIN ACTUAL WIRING CONNECTIONS:\n",
      "\n",
      "-1-  CONNECT GROUND WIRE IN DBL GANG BOX:\n",
      "Locate the green screw that came with the box (you can find the screw hole location in the pictures for this item)..  This screw will cut its own threads when you screw it into the hole (which makes a sure electrical connection)..  Wrap the copper wire around the screw in a semi circle around the screw (bend circle in the direction so that tightening the screw will tend to close the circle rather than open it)..  Tighten down the screw..  Install twist connector..\n",
      "\n",
      "GROUND IS VERY IMPORTANT BECAUSE:\n",
      "we have wires in a metal box, and so it must be grounded for electrical safety..  Likewise, this ground wire will transfer thru the extension cord to also ground the metal cabinet of the FRIG (to prevent the metal FRIG casing from becoming 120 VOLTS if an electrical fault develops someday)..\n",
      "\n",
      "-2-  CONNECT WHITE WIRES..  White jumper to UPPER RIGHT TERMINAL BLOCK (C terminal on the right)..\n",
      "\n",
      "-3-  CONNECT THE BLACK WIRE FROM THE SIDE THAT PLUGS INTO THE WALL:  This one has 2-BLACK jumper wires into the ETC box (to provide 120 V power to two places)..\n",
      "Black jumper to UPPER RIGHT TERMINAL BLOCK (120, middle terminal).\n",
      "Black jumper to LOWER LEFT TERMINAL BLOCK (C terminal on the right)..\n",
      "\n",
      "-4-  CONNECT THGE BLACK WIRE THAT WILL GO TO THE FRIG (RED JUMPER)..  Red jumper goes to LOWER LEFT TERMINAL BLOCK Normally Open (NO) terminal in the middle..\n",
      "\n",
      "ADD RUBBER FEET TO THE BOX:\n",
      "See the SHOPPING LIST SECTION for details..  Locate the screws and washers you bought and attach the feet thru the same holes that hold the BOX cover in place..  I did not do this part, so you may have to improvise.. There are several options..\n",
      "\n",
      "If the screws I asked for in the SHOP LIST don't work well (and the feet still are not very secure)..  You can simply go back and buy the exact same size screw that came with the feet (sheet metal screw), but at least 1/2 inch longer..  This will probably work without washers, because with a longer screw you will not need to over tighten (which then pops the rubber feet off the screws) to secure the cover, and the head will be larger too..  But try to use washers anyway here..\n",
      "\n",
      "VERIFY ALL WIRING WAS DONE CORRECTLY:\n",
      "VERIFY ALL WIRING WAS DONE CORRECTLY:\n",
      "VERIFY ALL WIRING WAS DONE CORRECTLY:\n",
      "\n",
      "It's stupid to leave anything to chance when it comes to electricity..  There are usually layers of safety built into the system, but believe me one or more layers are frequently already compromised due to shoddy workmanship and defective materials (and you never know what might happen if you spill some frig liquid, or a kid pulls on the wires..  Make sure the wiring was done correctly here so this safety layer remains intact..\n",
      "\n",
      "OPTIONS:\n",
      "There are several ways to test this..  You can use an OHM METER, VOLT METER, or if you have no way to test, then either st WIRING THE RANCHO ETC FOR REFRIGERATOR\n"
     ]
    }
   ],
   "source": [
    "#Printing the largest review before cleaning and preprocessing \n",
    "largest_review = df.loc[df['reviewText'].apply(len).idxmax(), 'reviewText']\n",
    "print(\"Largest review:\")\n",
    "print(largest_review)"
   ]
  },
  {
   "cell_type": "code",
   "execution_count": 34,
   "id": "0e851062",
   "metadata": {
    "scrolled": false
   },
   "outputs": [
    {
     "data": {
      "image/png": "[encoded data removed]",
      "text/plain": [
       "<Figure size 640x480 with 1 Axes>"
      ]
     },
     "metadata": {},
     "output_type": "display_data"
    }
   ],
   "source": [
    "# Outlier detection using IQR method and Box plot\n",
    "df['reviewLength'] = df['reviewText'].apply(lambda x: len(str(x)))\n",
    "data_indexed = df['reviewLength'].reset_index()\n",
    "data_indexed.plot(x='index',y='reviewLength')\n",
    "plt.xlabel('index of reviews')\n",
    "plt.ylabel('Length of reviews')\n",
    "plt.title('Histogram of reviewLength')\n",
    "plt.show();"
   ]
  },
  {
   "cell_type": "code",
   "execution_count": 35,
   "id": "817febc7",
   "metadata": {
    "scrolled": false
   },
   "outputs": [
    {
     "data": {
      "text/plain": [
       "<AxesSubplot:>"
      ]
     },
     "execution_count": 35,
     "metadata": {},
     "output_type": "execute_result"
    },
    {
     "data": {
      "image/png": "[encoded data removed]",
      "text/plain": [
       "<Figure size 640x480 with 1 Axes>"
      ]
     },
     "metadata": {},
     "output_type": "display_data"
    }
   ],
   "source": [
    "sns.boxplot(data = pd.melt(data_indexed))"
   ]
  },
  {
   "cell_type": "code",
   "execution_count": 36,
   "id": "15c512af",
   "metadata": {
    "scrolled": false
   },
   "outputs": [
    {
     "name": "stdout",
     "output_type": "stream",
     "text": [
      "Median of reviews length is 119\n",
      "Mean of reviews length is 266.06\n",
      "Interquartile range is 239.0\n",
      "The quartile 1 is 44.0 and quartile 3 is 283.0\n",
      "\n",
      "Lower limit for outliers is -314.5\n",
      "Upper limit for outliers is 641.5\n"
     ]
    }
   ],
   "source": [
    "median_review = statistics.median(df['reviewLength'] )\n",
    "mean_review = statistics.mean(df['reviewLength'])\n",
    "\n",
    "Q1,Q3 = np.percentile(df['reviewLength'] , [25,75])\n",
    "\n",
    "IQR = Q3 - Q1\n",
    "upper_limit = Q3+1.5*IQR\n",
    "lower_limit = Q1-1.5*IQR\n",
    "\n",
    "print(f'Median of reviews length is {median_review}\\nMean of reviews length is {mean_review:.2f}')\n",
    "print(f'Interquartile range is {IQR}')\n",
    "print(f'The quartile 1 is {Q1} and quartile 3 is {Q3}')\n",
    "print(f'\\nLower limit for outliers is {lower_limit}\\nUpper limit for outliers is {upper_limit}')"
   ]
  },
  {
   "cell_type": "code",
   "execution_count": 37,
   "id": "89473fd3",
   "metadata": {
    "scrolled": false
   },
   "outputs": [],
   "source": [
    "# pd.set_option('mode.chained_assignment', None)"
   ]
  },
  {
   "cell_type": "code",
   "execution_count": 38,
   "id": "2ce77e50",
   "metadata": {
    "scrolled": false
   },
   "outputs": [],
   "source": [
    "# Delete Unnessary Reviews with low or high length\n",
    "\n",
    "# for i in range(len(df[\"reviewLength\"])):\n",
    "#     if df[\"reviewLength\"][i] < 2:\n",
    "#         df = df.drop([i])\n",
    "#     elif df[\"reviewLength\"][i] > upper_limit:\n",
    "#         df[\"reviewText\"][i] = textwrap.shorten(df[\"reviewText\"][i], upper_limit, placeholder='')\n",
    "#         df[\"reviewLength\"][i] = len(df[\"reviewText\"][i])"
   ]
  },
  {
   "cell_type": "code",
   "execution_count": 39,
   "id": "2339d168",
   "metadata": {},
   "outputs": [
    {
     "name": "stdout",
     "output_type": "stream",
     "text": [
      "Number of reviews before dropping : 77071\n"
     ]
    }
   ],
   "source": [
    "print(f'Number of reviews before dropping : {df.shape[0]}')"
   ]
  },
  {
   "cell_type": "code",
   "execution_count": 40,
   "id": "9b15a0f6",
   "metadata": {},
   "outputs": [],
   "source": [
    "# Choose only datas that have reviewLength more than 2 and less than upper_limit\n",
    "df = df[(df[\"reviewLength\"] >= 2) & (df[\"reviewLength\"] <= upper_limit)]"
   ]
  },
  {
   "cell_type": "code",
   "execution_count": 41,
   "id": "aa72b9f5",
   "metadata": {
    "scrolled": false
   },
   "outputs": [
    {
     "name": "stdout",
     "output_type": "stream",
     "text": [
      "The longest review after shorten is 641\n",
      "\n",
      "The shortest review after dropping is 3\n"
     ]
    }
   ],
   "source": [
    "print(f'The longest review after shorten is {max(df[\"reviewLength\"])}\\n')\n",
    "print(f'The shortest review after dropping is {min(df[\"reviewLength\"])}')"
   ]
  },
  {
   "cell_type": "code",
   "execution_count": 42,
   "id": "17db0d1c",
   "metadata": {},
   "outputs": [
    {
     "name": "stdout",
     "output_type": "stream",
     "text": [
      "Number of reviews after dropping : 70017\n"
     ]
    }
   ],
   "source": [
    "print(f'Number of reviews after dropping : {df.shape[0]}')"
   ]
  },
  {
   "cell_type": "code",
   "execution_count": 43,
   "id": "49d204e5",
   "metadata": {
    "scrolled": false
   },
   "outputs": [
    {
     "data": {
      "image/png": "[encoded data removed]",
      "text/plain": [
       "<Figure size 640x480 with 1 Axes>"
      ]
     },
     "metadata": {},
     "output_type": "display_data"
    }
   ],
   "source": [
    "num_bin = 100\n",
    "plt.hist(df['reviewLength'],num_bin,alpha=0.3)\n",
    "plt.xlabel('Characters')\n",
    "plt.ylabel('Index')\n",
    "plt.title('Distribution of Reviews after Cleaning')\n",
    "plt.show()"
   ]
  },
  {
   "cell_type": "code",
   "execution_count": 44,
   "id": "70891d77",
   "metadata": {
    "scrolled": false
   },
   "outputs": [
    {
     "data": {
      "text/plain": [
       "<AxesSubplot:>"
      ]
     },
     "execution_count": 44,
     "metadata": {},
     "output_type": "execute_result"
    },
    {
     "data": {
      "image/png": "[encoded data removed]",
      "text/plain": [
       "<Figure size 640x480 with 1 Axes>"
      ]
     },
     "metadata": {},
     "output_type": "display_data"
    }
   ],
   "source": [
    "sns.boxplot(data = df[\"reviewLength\"])"
   ]
  },
  {
   "cell_type": "code",
   "execution_count": 45,
   "id": "ca9f41be",
   "metadata": {},
   "outputs": [
    {
     "name": "stdout",
     "output_type": "stream",
     "text": [
      "Number of reviews before dropping duplicates: 70017\n",
      "Number of reviews after dropping duplicates: 65993\n"
     ]
    }
   ],
   "source": [
    "print(f'Number of reviews before dropping duplicates: {df.shape[0]}')\n",
    "\n",
    "df = df.drop_duplicates()\n",
    "\n",
    "print(f'Number of reviews after dropping duplicates: {df.shape[0]}')"
   ]
  },
  {
   "cell_type": "code",
   "execution_count": 46,
   "id": "e3daab74",
   "metadata": {},
   "outputs": [
    {
     "name": "stdout",
     "output_type": "stream",
     "text": [
      "<class 'pandas.core.frame.DataFrame'>\n",
      "Int64Index: 65993 entries, 0 to 77070\n",
      "Data columns (total 7 columns):\n",
      " #   Column        Non-Null Count  Dtype \n",
      "---  ------        --------------  ----- \n",
      " 0   overall       65993 non-null  int64 \n",
      " 1   verified      65993 non-null  bool  \n",
      " 2   reviewerID    65993 non-null  object\n",
      " 3   asin          65993 non-null  object\n",
      " 4   reviewText    65993 non-null  object\n",
      " 5   year          65993 non-null  object\n",
      " 6   reviewLength  65993 non-null  int64 \n",
      "dtypes: bool(1), int64(2), object(4)\n",
      "memory usage: 3.6+ MB\n"
     ]
    }
   ],
   "source": [
    "df.info()"
   ]
  },
  {
   "cell_type": "code",
   "execution_count": 47,
   "id": "3741d234",
   "metadata": {},
   "outputs": [
    {
     "data": {
      "text/html": [
       "<div>\n",
       "<style scoped>\n",
       "    .dataframe tbody tr th:only-of-type {\n",
       "        vertical-align: middle;\n",
       "    }\n",
       "\n",
       "    .dataframe tbody tr th {\n",
       "        vertical-align: top;\n",
       "    }\n",
       "\n",
       "    .dataframe thead th {\n",
       "        text-align: right;\n",
       "    }\n",
       "</style>\n",
       "<table border=\"1\" class=\"dataframe\">\n",
       "  <thead>\n",
       "    <tr style=\"text-align: right;\">\n",
       "      <th></th>\n",
       "      <th>overall</th>\n",
       "      <th>verified</th>\n",
       "      <th>reviewerID</th>\n",
       "      <th>asin</th>\n",
       "      <th>reviewText</th>\n",
       "      <th>year</th>\n",
       "      <th>reviewLength</th>\n",
       "    </tr>\n",
       "  </thead>\n",
       "  <tbody>\n",
       "    <tr>\n",
       "      <th>0</th>\n",
       "      <td>5</td>\n",
       "      <td>True</td>\n",
       "      <td>A1JB7HFWHRYHT7</td>\n",
       "      <td>B0000223SI</td>\n",
       "      <td>This worked really well for what I used it for...</td>\n",
       "      <td>2017</td>\n",
       "      <td>442</td>\n",
       "    </tr>\n",
       "    <tr>\n",
       "      <th>1</th>\n",
       "      <td>5</td>\n",
       "      <td>True</td>\n",
       "      <td>A2FCLJG5GV8SD6</td>\n",
       "      <td>B0000223SI</td>\n",
       "      <td>Fast cutting and good adheasive. Good paper.</td>\n",
       "      <td>2017</td>\n",
       "      <td>44</td>\n",
       "    </tr>\n",
       "    <tr>\n",
       "      <th>2</th>\n",
       "      <td>5</td>\n",
       "      <td>False</td>\n",
       "      <td>A3IT9B33NWYQSL</td>\n",
       "      <td>B0000223SI</td>\n",
       "      <td>Worked great for my lapping bench.  I would li...</td>\n",
       "      <td>2017</td>\n",
       "      <td>250</td>\n",
       "    </tr>\n",
       "  </tbody>\n",
       "</table>\n",
       "</div>"
      ],
      "text/plain": [
       "   overall  verified      reviewerID        asin  \\\n",
       "0        5      True  A1JB7HFWHRYHT7  B0000223SI   \n",
       "1        5      True  A2FCLJG5GV8SD6  B0000223SI   \n",
       "2        5     False  A3IT9B33NWYQSL  B0000223SI   \n",
       "\n",
       "                                          reviewText   year  reviewLength  \n",
       "0  This worked really well for what I used it for...   2017           442  \n",
       "1       Fast cutting and good adheasive. Good paper.   2017            44  \n",
       "2  Worked great for my lapping bench.  I would li...   2017           250  "
      ]
     },
     "execution_count": 47,
     "metadata": {},
     "output_type": "execute_result"
    }
   ],
   "source": [
    "df.head(3)"
   ]
  },
  {
   "cell_type": "markdown",
   "id": "eddc2fa4",
   "metadata": {},
   "source": [
    "# Text basic pre-processing"
   ]
  },
  {
   "cell_type": "code",
   "execution_count": 48,
   "id": "58e9342e",
   "metadata": {
    "scrolled": false
   },
   "outputs": [],
   "source": [
    "def lable_ratings(data):\n",
    "    if data['overall'] >= 4:\n",
    "        data['ratings'] = 'Positive'\n",
    "    elif data['overall'] <= 2:\n",
    "        data['ratings'] = 'Negative'\n",
    "    else:\n",
    "        data['ratings'] = 'Neutral'\n",
    "    return data\n",
    "\n",
    "df = df.apply(lable_ratings, axis = 1)"
   ]
  },
  {
   "cell_type": "code",
   "execution_count": 49,
   "id": "35e92bc8",
   "metadata": {
    "scrolled": false
   },
   "outputs": [
    {
     "data": {
      "text/html": [
       "<div>\n",
       "<style scoped>\n",
       "    .dataframe tbody tr th:only-of-type {\n",
       "        vertical-align: middle;\n",
       "    }\n",
       "\n",
       "    .dataframe tbody tr th {\n",
       "        vertical-align: top;\n",
       "    }\n",
       "\n",
       "    .dataframe thead th {\n",
       "        text-align: right;\n",
       "    }\n",
       "</style>\n",
       "<table border=\"1\" class=\"dataframe\">\n",
       "  <thead>\n",
       "    <tr style=\"text-align: right;\">\n",
       "      <th></th>\n",
       "      <th>overall</th>\n",
       "      <th>verified</th>\n",
       "      <th>reviewerID</th>\n",
       "      <th>asin</th>\n",
       "      <th>reviewText</th>\n",
       "      <th>year</th>\n",
       "      <th>reviewLength</th>\n",
       "      <th>ratings</th>\n",
       "    </tr>\n",
       "  </thead>\n",
       "  <tbody>\n",
       "    <tr>\n",
       "      <th>0</th>\n",
       "      <td>5</td>\n",
       "      <td>True</td>\n",
       "      <td>A1JB7HFWHRYHT7</td>\n",
       "      <td>B0000223SI</td>\n",
       "      <td>This worked really well for what I used it for...</td>\n",
       "      <td>2017</td>\n",
       "      <td>442</td>\n",
       "      <td>Positive</td>\n",
       "    </tr>\n",
       "    <tr>\n",
       "      <th>1</th>\n",
       "      <td>5</td>\n",
       "      <td>True</td>\n",
       "      <td>A2FCLJG5GV8SD6</td>\n",
       "      <td>B0000223SI</td>\n",
       "      <td>Fast cutting and good adheasive. Good paper.</td>\n",
       "      <td>2017</td>\n",
       "      <td>44</td>\n",
       "      <td>Positive</td>\n",
       "    </tr>\n",
       "    <tr>\n",
       "      <th>2</th>\n",
       "      <td>5</td>\n",
       "      <td>False</td>\n",
       "      <td>A3IT9B33NWYQSL</td>\n",
       "      <td>B0000223SI</td>\n",
       "      <td>Worked great for my lapping bench.  I would li...</td>\n",
       "      <td>2017</td>\n",
       "      <td>250</td>\n",
       "      <td>Positive</td>\n",
       "    </tr>\n",
       "    <tr>\n",
       "      <th>3</th>\n",
       "      <td>4</td>\n",
       "      <td>True</td>\n",
       "      <td>AUL5LCV4TT73P</td>\n",
       "      <td>B0000223SK</td>\n",
       "      <td>As advertised As advertised</td>\n",
       "      <td>2018</td>\n",
       "      <td>27</td>\n",
       "      <td>Positive</td>\n",
       "    </tr>\n",
       "    <tr>\n",
       "      <th>4</th>\n",
       "      <td>5</td>\n",
       "      <td>True</td>\n",
       "      <td>A1V3I3L5JKO7TM</td>\n",
       "      <td>B0000223SK</td>\n",
       "      <td>seems like a pretty good value as opposed to b...</td>\n",
       "      <td>2017</td>\n",
       "      <td>149</td>\n",
       "      <td>Positive</td>\n",
       "    </tr>\n",
       "  </tbody>\n",
       "</table>\n",
       "</div>"
      ],
      "text/plain": [
       "   overall  verified      reviewerID        asin  \\\n",
       "0        5      True  A1JB7HFWHRYHT7  B0000223SI   \n",
       "1        5      True  A2FCLJG5GV8SD6  B0000223SI   \n",
       "2        5     False  A3IT9B33NWYQSL  B0000223SI   \n",
       "3        4      True   AUL5LCV4TT73P  B0000223SK   \n",
       "4        5      True  A1V3I3L5JKO7TM  B0000223SK   \n",
       "\n",
       "                                          reviewText   year  reviewLength  \\\n",
       "0  This worked really well for what I used it for...   2017           442   \n",
       "1       Fast cutting and good adheasive. Good paper.   2017            44   \n",
       "2  Worked great for my lapping bench.  I would li...   2017           250   \n",
       "3                        As advertised As advertised   2018            27   \n",
       "4  seems like a pretty good value as opposed to b...   2017           149   \n",
       "\n",
       "    ratings  \n",
       "0  Positive  \n",
       "1  Positive  \n",
       "2  Positive  \n",
       "3  Positive  \n",
       "4  Positive  "
      ]
     },
     "execution_count": 49,
     "metadata": {},
     "output_type": "execute_result"
    }
   ],
   "source": [
    "df.head()"
   ]
  },
  {
   "cell_type": "code",
   "execution_count": 50,
   "id": "55f12739",
   "metadata": {
    "scrolled": false
   },
   "outputs": [
    {
     "data": {
      "image/png": "[encoded data removed]",
      "text/plain": [
       "<Figure size 640x480 with 1 Axes>"
      ]
     },
     "metadata": {},
     "output_type": "display_data"
    }
   ],
   "source": [
    "df.groupby(['year','ratings'])['ratings'].count().unstack().plot(legend=True)\n",
    "plt.title('Year and Sentiment count')\n",
    "plt.xlabel('Year')\n",
    "plt.ylabel('Sentiment count')\n",
    "plt.show()"
   ]
  },
  {
   "cell_type": "code",
   "execution_count": 51,
   "id": "12e9d898",
   "metadata": {
    "scrolled": false
   },
   "outputs": [],
   "source": [
    "nlp = spacy.load(\"en_core_web_sm\")"
   ]
  },
  {
   "cell_type": "code",
   "execution_count": 52,
   "id": "b8d56a40",
   "metadata": {
    "scrolled": false
   },
   "outputs": [
    {
     "name": "stderr",
     "output_type": "stream",
     "text": [
      "[nltk_data] Downloading package stopwords to\n",
      "[nltk_data]     C:\\Users\\arsam\\AppData\\Roaming\\nltk_data...\n",
      "[nltk_data]   Package stopwords is already up-to-date!\n",
      "[nltk_data] Downloading package wordnet to\n",
      "[nltk_data]     C:\\Users\\arsam\\AppData\\Roaming\\nltk_data...\n",
      "[nltk_data]   Package wordnet is already up-to-date!\n"
     ]
    },
    {
     "data": {
      "text/plain": [
       "True"
      ]
     },
     "execution_count": 52,
     "metadata": {},
     "output_type": "execute_result"
    }
   ],
   "source": [
    "nltk.download('stopwords')\n",
    "nltk.download('wordnet')"
   ]
  },
  {
   "cell_type": "code",
   "execution_count": 53,
   "id": "dcff8efc",
   "metadata": {
    "scrolled": false
   },
   "outputs": [],
   "source": [
    "# Create a lemmatizer object\n",
    "lemmatizer = WordNetLemmatizer()"
   ]
  },
  {
   "cell_type": "code",
   "execution_count": 54,
   "id": "a69ad4dc",
   "metadata": {},
   "outputs": [],
   "source": [
    "emoji_pattern = re.compile('['\n",
    "        '\\U0001F1E0-\\U0001F1FF'  # flags (iOS)\n",
    "        '\\U0001F300-\\U0001F5FF'  # symbols & pictographs\n",
    "        '\\U0001F600-\\U0001F64F'  # emoticons\n",
    "        '\\U0001F680-\\U0001F6FF'  # transport & map symbols\n",
    "        '\\U0001F700-\\U0001F77F'  # alchemical symbols\n",
    "        '\\U0001F780-\\U0001F7FF'  # Geometric Shapes Extended\n",
    "        '\\U0001F800-\\U0001F8FF'  # Supplemental Arrows-C\n",
    "        '\\U0001F900-\\U0001F9FF'  # Supplemental Symbols and Pictographs\n",
    "        '\\U0001FA00-\\U0001FA6F'  # Chess Symbols\n",
    "        '\\U0001FA70-\\U0001FAFF'  # Symbols and Pictographs Extended-A\n",
    "        '\\U00002702-\\U000027B0'  # Dingbats\n",
    "        '\\U000024C2-\\U0001F251'\n",
    "        ']+')"
   ]
  },
  {
   "cell_type": "code",
   "execution_count": 55,
   "id": "589b6478",
   "metadata": {},
   "outputs": [],
   "source": [
    "def preprocessing(text, keep_emojis=True):\n",
    "    text = text.lower()                    # Lowercase\n",
    "    text = text.translate(str.maketrans('', '', string.punctuation))\n",
    "    text = re.sub(r'<[^>]+>', '', text)    # Remove HTML tags\n",
    "    text = re.sub(r'http\\S+', '', text)    # Remove URLs\n",
    "    text = re.sub(r'\\s+', ' ', text)       # Remove whitespace \n",
    "    text = re.sub(r'\\d+', '', text)        # Remove digits\n",
    "    \n",
    "    if not keep_emojis:\n",
    "        text = emoji_pattern.sub('', text) # Remove emojis\n",
    "\n",
    "    words = nltk.word_tokenize(text)       # Tokenize the text\n",
    "    stopwords_list = set(stopwords.words('english'))\n",
    "    stopwords_list.difference_update({'not', 'no', 'never', 'don', \"don't\", 'doesn', \"doesn't\", 'isn', \"isn't\", 'wasn', \"wasn't\"})\n",
    "    words = [word for word in words if word not in stopwords_list] # Remove stopwords\n",
    "    lemmatizer = WordNetLemmatizer()       # Lemmatize the words\n",
    "    lemmatized_words = [lemmatizer.lemmatize(word) for word in words]\n",
    "    text = ' '.join(lemmatized_words)\n",
    "    return text"
   ]
  },
  {
   "cell_type": "code",
   "execution_count": 56,
   "id": "d917de9a",
   "metadata": {},
   "outputs": [
    {
     "name": "stdout",
     "output_type": "stream",
     "text": [
      "Without Emojis >>>\tproduct amazing\n",
      "With Emojis    >>>\tproduct amazing 😍\n"
     ]
    }
   ],
   "source": [
    "# One test to show removing emojis\n",
    "sample_text = \"This product is amazing! 😍\"\n",
    "\n",
    "print(f'Without Emojis >>>\\t{preprocessing(sample_text, False)}')\n",
    "print(f'With Emojis    >>>\\t{preprocessing(sample_text)}')"
   ]
  },
  {
   "cell_type": "code",
   "execution_count": 57,
   "id": "ac5a8eaf",
   "metadata": {},
   "outputs": [
    {
     "name": "stdout",
     "output_type": "stream",
     "text": [
      "Number of all reviews that have emojis: 0\n"
     ]
    }
   ],
   "source": [
    "# Number of reviews that have emojis\n",
    "num_reviews_with_emojis = df['reviewText'].astype(str).str.contains(emoji_pattern, regex=True).sum()\n",
    "\n",
    "print(f'Number of all reviews that have emojis: {num_reviews_with_emojis}')"
   ]
  },
  {
   "cell_type": "code",
   "execution_count": 58,
   "id": "ea4427bc",
   "metadata": {
    "scrolled": false
   },
   "outputs": [],
   "source": [
    "# Because we don't have any emojis in our dataset then we only create one column\n",
    "\n",
    "df['clean_reviews'] = df['reviewText'].astype(str).apply(preprocessing)"
   ]
  },
  {
   "cell_type": "code",
   "execution_count": 59,
   "id": "02d57a21",
   "metadata": {
    "scrolled": false
   },
   "outputs": [
    {
     "data": {
      "text/plain": [
       "'works and wears well and fit perfect Five Stars'"
      ]
     },
     "execution_count": 59,
     "metadata": {},
     "output_type": "execute_result"
    }
   ],
   "source": [
    "df['reviewText'][100]"
   ]
  },
  {
   "cell_type": "code",
   "execution_count": 60,
   "id": "94c405a6",
   "metadata": {
    "scrolled": false
   },
   "outputs": [
    {
     "data": {
      "text/plain": [
       "'work wear well fit perfect five star'"
      ]
     },
     "execution_count": 60,
     "metadata": {},
     "output_type": "execute_result"
    }
   ],
   "source": [
    "df['clean_reviews'][100]"
   ]
  },
  {
   "cell_type": "code",
   "execution_count": 61,
   "id": "4e4bb9c1",
   "metadata": {
    "scrolled": false
   },
   "outputs": [
    {
     "name": "stdout",
     "output_type": "stream",
     "text": [
      "Largest review:\n",
      "good glue product say would prefer quicker bond used thick application chip repair stone counter top end result good strong easily trimmed razor blade sandpaper finish desired almost invisible used typically thin ca application wood paper china etc bond quickly frugal tip use dipped needle point drop application instead applicator tip supplied much glue dry wasted inside applicator tip bottle last much longer using needle store glue frig longer life solid product top quality\n"
     ]
    }
   ],
   "source": [
    "#Largest review after cleaning and preprocessing\n",
    "largest_review = df.loc[df['clean_reviews'].apply(len).idxmax(), 'clean_reviews']\n",
    "print(\"Largest review:\")\n",
    "print(largest_review)"
   ]
  },
  {
   "cell_type": "code",
   "execution_count": 62,
   "id": "e7f44652",
   "metadata": {
    "scrolled": false
   },
   "outputs": [
    {
     "data": {
      "text/html": [
       "<div>\n",
       "<style scoped>\n",
       "    .dataframe tbody tr th:only-of-type {\n",
       "        vertical-align: middle;\n",
       "    }\n",
       "\n",
       "    .dataframe tbody tr th {\n",
       "        vertical-align: top;\n",
       "    }\n",
       "\n",
       "    .dataframe thead th {\n",
       "        text-align: right;\n",
       "    }\n",
       "</style>\n",
       "<table border=\"1\" class=\"dataframe\">\n",
       "  <thead>\n",
       "    <tr style=\"text-align: right;\">\n",
       "      <th></th>\n",
       "      <th>reviewText</th>\n",
       "      <th>clean_reviews</th>\n",
       "    </tr>\n",
       "  </thead>\n",
       "  <tbody>\n",
       "    <tr>\n",
       "      <th>0</th>\n",
       "      <td>This worked really well for what I used it for. So for my purposes it is getting full marks. This is an all around great, durable, and afforable sandpaper.\\n\\nPros:\\n-Grit cuts really fast and evenly. No random deep scratches like I have seen in some cheaper paper\\n-Didn't even have a hint of clogging up.\\n-The adhesive is just what I needed. No permanent, but wasn't going anywhere.\\n\\nCons:\\n-None Couldn't have been happier with it's performance</td>\n",
       "      <td>worked really well used purpose getting full mark around great durable afforable sandpaper pro grit cut really fast evenly no random deep scratch like seen cheaper paper didnt even hint clogging adhesive needed no permanent wasnt going anywhere con none couldnt happier performance</td>\n",
       "    </tr>\n",
       "    <tr>\n",
       "      <th>1</th>\n",
       "      <td>Fast cutting and good adheasive. Good paper.</td>\n",
       "      <td>fast cutting good adheasive good paper</td>\n",
       "    </tr>\n",
       "    <tr>\n",
       "      <th>2</th>\n",
       "      <td>Worked great for my lapping bench.  I would like it if the adhesive were backed with waxed paper for storage and keeping the grit out, but all but the first 6 inches or so still functioned when it arrived.  I used rubber cement to remedy that. Handy!</td>\n",
       "      <td>worked great lapping bench would like adhesive backed waxed paper storage keeping grit first inch still functioned arrived used rubber cement remedy handy</td>\n",
       "    </tr>\n",
       "    <tr>\n",
       "      <th>3</th>\n",
       "      <td>As advertised As advertised</td>\n",
       "      <td>advertised advertised</td>\n",
       "    </tr>\n",
       "    <tr>\n",
       "      <th>4</th>\n",
       "      <td>seems like a pretty good value as opposed to buying it at the big box stores by the sheet. seems like a pretty good value as opposed to buying it ...</td>\n",
       "      <td>seems like pretty good value opposed buying big box store sheet seems like pretty good value opposed buying</td>\n",
       "    </tr>\n",
       "    <tr>\n",
       "      <th>...</th>\n",
       "      <td>...</td>\n",
       "      <td>...</td>\n",
       "    </tr>\n",
       "    <tr>\n",
       "      <th>108</th>\n",
       "      <td>They work well Good disks</td>\n",
       "      <td>work well good disk</td>\n",
       "    </tr>\n",
       "    <tr>\n",
       "      <th>109</th>\n",
       "      <td>Item exactly as advertised, cuts great.  This blade seems to cut better than the cheap Harbor Freight ones, but not very much better. cuts great. This blade seems to cut better than the ...</td>\n",
       "      <td>item exactly advertised cut great blade seems cut better cheap harbor freight one not much better cut great blade seems cut better</td>\n",
       "    </tr>\n",
       "    <tr>\n",
       "      <th>110</th>\n",
       "      <td>Fast ship great product Thanks Five Stars</td>\n",
       "      <td>fast ship great product thanks five star</td>\n",
       "    </tr>\n",
       "    <tr>\n",
       "      <th>111</th>\n",
       "      <td>This is a good blade for my chop saw.  I have used generic ones that may be just a bit lower cost but they seem to wear much faster than this one does.  First time buying one of these on Amazon and it was delivered well and quickly.  I will buy this again when needed.  The blade is well made and seems to be lasting. Good quality and seems to have more life than others I have used</td>\n",
       "      <td>good blade chop saw used generic one may bit lower cost seem wear much faster one first time buying one amazon delivered well quickly buy needed blade well made seems lasting good quality seems life others used</td>\n",
       "    </tr>\n",
       "    <tr>\n",
       "      <th>112</th>\n",
       "      <td>yup it's sandpaper all right Three Stars</td>\n",
       "      <td>yup sandpaper right three star</td>\n",
       "    </tr>\n",
       "  </tbody>\n",
       "</table>\n",
       "<p>100 rows × 2 columns</p>\n",
       "</div>"
      ],
      "text/plain": [
       "                                                                                                                                                                                                                                                                                                                                                                                                                                                             reviewText  \\\n",
       "0    This worked really well for what I used it for. So for my purposes it is getting full marks. This is an all around great, durable, and afforable sandpaper.\\n\\nPros:\\n-Grit cuts really fast and evenly. No random deep scratches like I have seen in some cheaper paper\\n-Didn't even have a hint of clogging up.\\n-The adhesive is just what I needed. No permanent, but wasn't going anywhere.\\n\\nCons:\\n-None Couldn't have been happier with it's performance   \n",
       "1                                                                                                                                                                                                                                                                                                                                                                                                                          Fast cutting and good adheasive. Good paper.   \n",
       "2                                                                                                                                                                                                            Worked great for my lapping bench.  I would like it if the adhesive were backed with waxed paper for storage and keeping the grit out, but all but the first 6 inches or so still functioned when it arrived.  I used rubber cement to remedy that. Handy!   \n",
       "3                                                                                                                                                                                                                                                                                                                                                                                                                                           As advertised As advertised   \n",
       "4                                                                                                                                                                                                                                                                                                                 seems like a pretty good value as opposed to buying it at the big box stores by the sheet. seems like a pretty good value as opposed to buying it ...   \n",
       "..                                                                                                                                                                                                                                                                                                                                                                                                                                                                  ...   \n",
       "108                                                                                                                                                                                                                                                                                                                                                                                                                                           They work well Good disks   \n",
       "109                                                                                                                                                                                                                                                                       Item exactly as advertised, cuts great.  This blade seems to cut better than the cheap Harbor Freight ones, but not very much better. cuts great. This blade seems to cut better than the ...   \n",
       "110                                                                                                                                                                                                                                                                                                                                                                                                                           Fast ship great product Thanks Five Stars   \n",
       "111                                                                      This is a good blade for my chop saw.  I have used generic ones that may be just a bit lower cost but they seem to wear much faster than this one does.  First time buying one of these on Amazon and it was delivered well and quickly.  I will buy this again when needed.  The blade is well made and seems to be lasting. Good quality and seems to have more life than others I have used   \n",
       "112                                                                                                                                                                                                                                                                                                                                                                                                                            yup it's sandpaper all right Three Stars   \n",
       "\n",
       "                                                                                                                                                                                                                                                                                 clean_reviews  \n",
       "0    worked really well used purpose getting full mark around great durable afforable sandpaper pro grit cut really fast evenly no random deep scratch like seen cheaper paper didnt even hint clogging adhesive needed no permanent wasnt going anywhere con none couldnt happier performance  \n",
       "1                                                                                                                                                                                                                                                       fast cutting good adheasive good paper  \n",
       "2                                                                                                                                   worked great lapping bench would like adhesive backed waxed paper storage keeping grit first inch still functioned arrived used rubber cement remedy handy  \n",
       "3                                                                                                                                                                                                                                                                        advertised advertised  \n",
       "4                                                                                                                                                                                  seems like pretty good value opposed buying big box store sheet seems like pretty good value opposed buying  \n",
       "..                                                                                                                                                                                                                                                                                         ...  \n",
       "108                                                                                                                                                                                                                                                                        work well good disk  \n",
       "109                                                                                                                                                         item exactly advertised cut great blade seems cut better cheap harbor freight one not much better cut great blade seems cut better  \n",
       "110                                                                                                                                                                                                                                                   fast ship great product thanks five star  \n",
       "111                                                                         good blade chop saw used generic one may bit lower cost seem wear much faster one first time buying one amazon delivered well quickly buy needed blade well made seems lasting good quality seems life others used  \n",
       "112                                                                                                                                                                                                                                                             yup sandpaper right three star  \n",
       "\n",
       "[100 rows x 2 columns]"
      ]
     },
     "execution_count": 62,
     "metadata": {},
     "output_type": "execute_result"
    }
   ],
   "source": [
    "pd.set_option('display.max_colwidth', None)\n",
    "pd.set_option('display.max_rows', 50)\n",
    "df[['reviewText', 'clean_reviews']].head(100)"
   ]
  },
  {
   "cell_type": "code",
   "execution_count": 63,
   "id": "30361d3c",
   "metadata": {
    "scrolled": false
   },
   "outputs": [
    {
     "data": {
      "text/html": [
       "<div>\n",
       "<style scoped>\n",
       "    .dataframe tbody tr th:only-of-type {\n",
       "        vertical-align: middle;\n",
       "    }\n",
       "\n",
       "    .dataframe tbody tr th {\n",
       "        vertical-align: top;\n",
       "    }\n",
       "\n",
       "    .dataframe thead th {\n",
       "        text-align: right;\n",
       "    }\n",
       "</style>\n",
       "<table border=\"1\" class=\"dataframe\">\n",
       "  <thead>\n",
       "    <tr style=\"text-align: right;\">\n",
       "      <th></th>\n",
       "      <th>overall</th>\n",
       "      <th>verified</th>\n",
       "      <th>reviewerID</th>\n",
       "      <th>asin</th>\n",
       "      <th>reviewText</th>\n",
       "      <th>year</th>\n",
       "      <th>reviewLength</th>\n",
       "      <th>ratings</th>\n",
       "      <th>clean_reviews</th>\n",
       "    </tr>\n",
       "  </thead>\n",
       "  <tbody>\n",
       "    <tr>\n",
       "      <th>0</th>\n",
       "      <td>5</td>\n",
       "      <td>True</td>\n",
       "      <td>A1JB7HFWHRYHT7</td>\n",
       "      <td>B0000223SI</td>\n",
       "      <td>This worked really well for what I used it for. So for my purposes it is getting full marks. This is an all around great, durable, and afforable sandpaper.\\n\\nPros:\\n-Grit cuts really fast and evenly. No random deep scratches like I have seen in some cheaper paper\\n-Didn't even have a hint of clogging up.\\n-The adhesive is just what I needed. No permanent, but wasn't going anywhere.\\n\\nCons:\\n-None Couldn't have been happier with it's performance</td>\n",
       "      <td>2017</td>\n",
       "      <td>442</td>\n",
       "      <td>Positive</td>\n",
       "      <td>worked really well used purpose getting full mark around great durable afforable sandpaper pro grit cut really fast evenly no random deep scratch like seen cheaper paper didnt even hint clogging adhesive needed no permanent wasnt going anywhere con none couldnt happier performance</td>\n",
       "    </tr>\n",
       "    <tr>\n",
       "      <th>1</th>\n",
       "      <td>5</td>\n",
       "      <td>True</td>\n",
       "      <td>A2FCLJG5GV8SD6</td>\n",
       "      <td>B0000223SI</td>\n",
       "      <td>Fast cutting and good adheasive. Good paper.</td>\n",
       "      <td>2017</td>\n",
       "      <td>44</td>\n",
       "      <td>Positive</td>\n",
       "      <td>fast cutting good adheasive good paper</td>\n",
       "    </tr>\n",
       "  </tbody>\n",
       "</table>\n",
       "</div>"
      ],
      "text/plain": [
       "   overall  verified      reviewerID        asin  \\\n",
       "0        5      True  A1JB7HFWHRYHT7  B0000223SI   \n",
       "1        5      True  A2FCLJG5GV8SD6  B0000223SI   \n",
       "\n",
       "                                                                                                                                                                                                                                                                                                                                                                                                                                                           reviewText  \\\n",
       "0  This worked really well for what I used it for. So for my purposes it is getting full marks. This is an all around great, durable, and afforable sandpaper.\\n\\nPros:\\n-Grit cuts really fast and evenly. No random deep scratches like I have seen in some cheaper paper\\n-Didn't even have a hint of clogging up.\\n-The adhesive is just what I needed. No permanent, but wasn't going anywhere.\\n\\nCons:\\n-None Couldn't have been happier with it's performance   \n",
       "1                                                                                                                                                                                                                                                                                                                                                                                                                        Fast cutting and good adheasive. Good paper.   \n",
       "\n",
       "    year  reviewLength   ratings  \\\n",
       "0   2017           442  Positive   \n",
       "1   2017            44  Positive   \n",
       "\n",
       "                                                                                                                                                                                                                                                                               clean_reviews  \n",
       "0  worked really well used purpose getting full mark around great durable afforable sandpaper pro grit cut really fast evenly no random deep scratch like seen cheaper paper didnt even hint clogging adhesive needed no permanent wasnt going anywhere con none couldnt happier performance  \n",
       "1                                                                                                                                                                                                                                                     fast cutting good adheasive good paper  "
      ]
     },
     "execution_count": 63,
     "metadata": {},
     "output_type": "execute_result"
    }
   ],
   "source": [
    "df.head(2)"
   ]
  },
  {
   "cell_type": "code",
   "execution_count": 64,
   "id": "0b1dd216",
   "metadata": {
    "scrolled": false
   },
   "outputs": [],
   "source": [
    "df['cleanLength'] = df['clean_reviews'].apply(lambda x: len(str(x)))"
   ]
  },
  {
   "cell_type": "code",
   "execution_count": 65,
   "id": "b27b22e9",
   "metadata": {
    "scrolled": false
   },
   "outputs": [],
   "source": [
    "df['reviewLength'] = df['reviewText'].apply(lambda x: len(str(x)))"
   ]
  },
  {
   "cell_type": "code",
   "execution_count": 66,
   "id": "1f48d2ef",
   "metadata": {
    "scrolled": false
   },
   "outputs": [
    {
     "data": {
      "text/html": [
       "<div>\n",
       "<style scoped>\n",
       "    .dataframe tbody tr th:only-of-type {\n",
       "        vertical-align: middle;\n",
       "    }\n",
       "\n",
       "    .dataframe tbody tr th {\n",
       "        vertical-align: top;\n",
       "    }\n",
       "\n",
       "    .dataframe thead th {\n",
       "        text-align: right;\n",
       "    }\n",
       "</style>\n",
       "<table border=\"1\" class=\"dataframe\">\n",
       "  <thead>\n",
       "    <tr style=\"text-align: right;\">\n",
       "      <th></th>\n",
       "      <th>reviewText</th>\n",
       "      <th>reviewLength</th>\n",
       "      <th>clean_reviews</th>\n",
       "      <th>cleanLength</th>\n",
       "    </tr>\n",
       "  </thead>\n",
       "  <tbody>\n",
       "    <tr>\n",
       "      <th>0</th>\n",
       "      <td>This worked really well for what I used it for. So for my purposes it is getting full marks. This is an all around great, durable, and afforable sandpaper.\\n\\nPros:\\n-Grit cuts really fast and evenly. No random deep scratches like I have seen in some cheaper paper\\n-Didn't even have a hint of clogging up.\\n-The adhesive is just what I needed. No permanent, but wasn't going anywhere.\\n\\nCons:\\n-None Couldn't have been happier with it's performance</td>\n",
       "      <td>442</td>\n",
       "      <td>worked really well used purpose getting full mark around great durable afforable sandpaper pro grit cut really fast evenly no random deep scratch like seen cheaper paper didnt even hint clogging adhesive needed no permanent wasnt going anywhere con none couldnt happier performance</td>\n",
       "      <td>281</td>\n",
       "    </tr>\n",
       "    <tr>\n",
       "      <th>1</th>\n",
       "      <td>Fast cutting and good adheasive. Good paper.</td>\n",
       "      <td>44</td>\n",
       "      <td>fast cutting good adheasive good paper</td>\n",
       "      <td>38</td>\n",
       "    </tr>\n",
       "    <tr>\n",
       "      <th>2</th>\n",
       "      <td>Worked great for my lapping bench.  I would like it if the adhesive were backed with waxed paper for storage and keeping the grit out, but all but the first 6 inches or so still functioned when it arrived.  I used rubber cement to remedy that. Handy!</td>\n",
       "      <td>250</td>\n",
       "      <td>worked great lapping bench would like adhesive backed waxed paper storage keeping grit first inch still functioned arrived used rubber cement remedy handy</td>\n",
       "      <td>154</td>\n",
       "    </tr>\n",
       "    <tr>\n",
       "      <th>3</th>\n",
       "      <td>As advertised As advertised</td>\n",
       "      <td>27</td>\n",
       "      <td>advertised advertised</td>\n",
       "      <td>21</td>\n",
       "    </tr>\n",
       "    <tr>\n",
       "      <th>4</th>\n",
       "      <td>seems like a pretty good value as opposed to buying it at the big box stores by the sheet. seems like a pretty good value as opposed to buying it ...</td>\n",
       "      <td>149</td>\n",
       "      <td>seems like pretty good value opposed buying big box store sheet seems like pretty good value opposed buying</td>\n",
       "      <td>107</td>\n",
       "    </tr>\n",
       "  </tbody>\n",
       "</table>\n",
       "</div>"
      ],
      "text/plain": [
       "                                                                                                                                                                                                                                                                                                                                                                                                                                                           reviewText  \\\n",
       "0  This worked really well for what I used it for. So for my purposes it is getting full marks. This is an all around great, durable, and afforable sandpaper.\\n\\nPros:\\n-Grit cuts really fast and evenly. No random deep scratches like I have seen in some cheaper paper\\n-Didn't even have a hint of clogging up.\\n-The adhesive is just what I needed. No permanent, but wasn't going anywhere.\\n\\nCons:\\n-None Couldn't have been happier with it's performance   \n",
       "1                                                                                                                                                                                                                                                                                                                                                                                                                        Fast cutting and good adheasive. Good paper.   \n",
       "2                                                                                                                                                                                                          Worked great for my lapping bench.  I would like it if the adhesive were backed with waxed paper for storage and keeping the grit out, but all but the first 6 inches or so still functioned when it arrived.  I used rubber cement to remedy that. Handy!   \n",
       "3                                                                                                                                                                                                                                                                                                                                                                                                                                         As advertised As advertised   \n",
       "4                                                                                                                                                                                                                                                                                                               seems like a pretty good value as opposed to buying it at the big box stores by the sheet. seems like a pretty good value as opposed to buying it ...   \n",
       "\n",
       "   reviewLength  \\\n",
       "0           442   \n",
       "1            44   \n",
       "2           250   \n",
       "3            27   \n",
       "4           149   \n",
       "\n",
       "                                                                                                                                                                                                                                                                               clean_reviews  \\\n",
       "0  worked really well used purpose getting full mark around great durable afforable sandpaper pro grit cut really fast evenly no random deep scratch like seen cheaper paper didnt even hint clogging adhesive needed no permanent wasnt going anywhere con none couldnt happier performance   \n",
       "1                                                                                                                                                                                                                                                     fast cutting good adheasive good paper   \n",
       "2                                                                                                                                 worked great lapping bench would like adhesive backed waxed paper storage keeping grit first inch still functioned arrived used rubber cement remedy handy   \n",
       "3                                                                                                                                                                                                                                                                      advertised advertised   \n",
       "4                                                                                                                                                                                seems like pretty good value opposed buying big box store sheet seems like pretty good value opposed buying   \n",
       "\n",
       "   cleanLength  \n",
       "0          281  \n",
       "1           38  \n",
       "2          154  \n",
       "3           21  \n",
       "4          107  "
      ]
     },
     "execution_count": 66,
     "metadata": {},
     "output_type": "execute_result"
    }
   ],
   "source": [
    "df[['reviewText', 'reviewLength', 'clean_reviews', 'cleanLength']].head()"
   ]
  },
  {
   "cell_type": "code",
   "execution_count": 67,
   "id": "64b4473e",
   "metadata": {
    "scrolled": false
   },
   "outputs": [
    {
     "data": {
      "text/html": [
       "<div>\n",
       "<style scoped>\n",
       "    .dataframe tbody tr th:only-of-type {\n",
       "        vertical-align: middle;\n",
       "    }\n",
       "\n",
       "    .dataframe tbody tr th {\n",
       "        vertical-align: top;\n",
       "    }\n",
       "\n",
       "    .dataframe thead th {\n",
       "        text-align: right;\n",
       "    }\n",
       "</style>\n",
       "<table border=\"1\" class=\"dataframe\">\n",
       "  <thead>\n",
       "    <tr style=\"text-align: right;\">\n",
       "      <th></th>\n",
       "      <th>overall</th>\n",
       "      <th>verified</th>\n",
       "      <th>reviewerID</th>\n",
       "      <th>asin</th>\n",
       "      <th>reviewText</th>\n",
       "      <th>year</th>\n",
       "      <th>reviewLength</th>\n",
       "      <th>ratings</th>\n",
       "      <th>clean_reviews</th>\n",
       "      <th>cleanLength</th>\n",
       "    </tr>\n",
       "  </thead>\n",
       "  <tbody>\n",
       "    <tr>\n",
       "      <th>0</th>\n",
       "      <td>5</td>\n",
       "      <td>True</td>\n",
       "      <td>A1JB7HFWHRYHT7</td>\n",
       "      <td>B0000223SI</td>\n",
       "      <td>This worked really well for what I used it for. So for my purposes it is getting full marks. This is an all around great, durable, and afforable sandpaper.\\n\\nPros:\\n-Grit cuts really fast and evenly. No random deep scratches like I have seen in some cheaper paper\\n-Didn't even have a hint of clogging up.\\n-The adhesive is just what I needed. No permanent, but wasn't going anywhere.\\n\\nCons:\\n-None Couldn't have been happier with it's performance</td>\n",
       "      <td>2017</td>\n",
       "      <td>442</td>\n",
       "      <td>Positive</td>\n",
       "      <td>worked really well used purpose getting full mark around great durable afforable sandpaper pro grit cut really fast evenly no random deep scratch like seen cheaper paper didnt even hint clogging adhesive needed no permanent wasnt going anywhere con none couldnt happier performance</td>\n",
       "      <td>281</td>\n",
       "    </tr>\n",
       "    <tr>\n",
       "      <th>1</th>\n",
       "      <td>5</td>\n",
       "      <td>True</td>\n",
       "      <td>A2FCLJG5GV8SD6</td>\n",
       "      <td>B0000223SI</td>\n",
       "      <td>Fast cutting and good adheasive. Good paper.</td>\n",
       "      <td>2017</td>\n",
       "      <td>44</td>\n",
       "      <td>Positive</td>\n",
       "      <td>fast cutting good adheasive good paper</td>\n",
       "      <td>38</td>\n",
       "    </tr>\n",
       "  </tbody>\n",
       "</table>\n",
       "</div>"
      ],
      "text/plain": [
       "   overall  verified      reviewerID        asin  \\\n",
       "0        5      True  A1JB7HFWHRYHT7  B0000223SI   \n",
       "1        5      True  A2FCLJG5GV8SD6  B0000223SI   \n",
       "\n",
       "                                                                                                                                                                                                                                                                                                                                                                                                                                                           reviewText  \\\n",
       "0  This worked really well for what I used it for. So for my purposes it is getting full marks. This is an all around great, durable, and afforable sandpaper.\\n\\nPros:\\n-Grit cuts really fast and evenly. No random deep scratches like I have seen in some cheaper paper\\n-Didn't even have a hint of clogging up.\\n-The adhesive is just what I needed. No permanent, but wasn't going anywhere.\\n\\nCons:\\n-None Couldn't have been happier with it's performance   \n",
       "1                                                                                                                                                                                                                                                                                                                                                                                                                        Fast cutting and good adheasive. Good paper.   \n",
       "\n",
       "    year  reviewLength   ratings  \\\n",
       "0   2017           442  Positive   \n",
       "1   2017            44  Positive   \n",
       "\n",
       "                                                                                                                                                                                                                                                                               clean_reviews  \\\n",
       "0  worked really well used purpose getting full mark around great durable afforable sandpaper pro grit cut really fast evenly no random deep scratch like seen cheaper paper didnt even hint clogging adhesive needed no permanent wasnt going anywhere con none couldnt happier performance   \n",
       "1                                                                                                                                                                                                                                                     fast cutting good adheasive good paper   \n",
       "\n",
       "   cleanLength  \n",
       "0          281  \n",
       "1           38  "
      ]
     },
     "execution_count": 67,
     "metadata": {},
     "output_type": "execute_result"
    }
   ],
   "source": [
    "df.head(2)"
   ]
  },
  {
   "cell_type": "code",
   "execution_count": 68,
   "id": "d863c7d3",
   "metadata": {
    "scrolled": false
   },
   "outputs": [],
   "source": [
    "# Select a random sample of 2000 reviews\n",
    "\n",
    "sample_size = 2000\n",
    "sample_df = df.sample(n=sample_size, random_state=1)"
   ]
  },
  {
   "cell_type": "code",
   "execution_count": 69,
   "id": "45833422",
   "metadata": {},
   "outputs": [
    {
     "name": "stdout",
     "output_type": "stream",
     "text": [
      "<class 'pandas.core.frame.DataFrame'>\n",
      "Int64Index: 2000 entries, 41768 to 53010\n",
      "Data columns (total 10 columns):\n",
      " #   Column         Non-Null Count  Dtype \n",
      "---  ------         --------------  ----- \n",
      " 0   overall        2000 non-null   int64 \n",
      " 1   verified       2000 non-null   bool  \n",
      " 2   reviewerID     2000 non-null   object\n",
      " 3   asin           2000 non-null   object\n",
      " 4   reviewText     2000 non-null   object\n",
      " 5   year           2000 non-null   object\n",
      " 6   reviewLength   2000 non-null   int64 \n",
      " 7   ratings        2000 non-null   object\n",
      " 8   clean_reviews  2000 non-null   object\n",
      " 9   cleanLength    2000 non-null   int64 \n",
      "dtypes: bool(1), int64(3), object(6)\n",
      "memory usage: 158.2+ KB\n"
     ]
    }
   ],
   "source": [
    "sample_df.info()"
   ]
  },
  {
   "cell_type": "code",
   "execution_count": 70,
   "id": "c2924ec9",
   "metadata": {
    "scrolled": false
   },
   "outputs": [
    {
     "data": {
      "text/html": [
       "<div>\n",
       "<style scoped>\n",
       "    .dataframe tbody tr th:only-of-type {\n",
       "        vertical-align: middle;\n",
       "    }\n",
       "\n",
       "    .dataframe tbody tr th {\n",
       "        vertical-align: top;\n",
       "    }\n",
       "\n",
       "    .dataframe thead th {\n",
       "        text-align: right;\n",
       "    }\n",
       "</style>\n",
       "<table border=\"1\" class=\"dataframe\">\n",
       "  <thead>\n",
       "    <tr style=\"text-align: right;\">\n",
       "      <th></th>\n",
       "      <th>overall</th>\n",
       "      <th>verified</th>\n",
       "      <th>reviewerID</th>\n",
       "      <th>asin</th>\n",
       "      <th>reviewText</th>\n",
       "      <th>year</th>\n",
       "      <th>reviewLength</th>\n",
       "      <th>ratings</th>\n",
       "      <th>clean_reviews</th>\n",
       "      <th>cleanLength</th>\n",
       "    </tr>\n",
       "  </thead>\n",
       "  <tbody>\n",
       "    <tr>\n",
       "      <th>41768</th>\n",
       "      <td>4</td>\n",
       "      <td>True</td>\n",
       "      <td>A1JUPR7LPMYG1X</td>\n",
       "      <td>B00CI9VIM0</td>\n",
       "      <td>Perfect fit- easy to clean up your chocolate spills, very sturdy Cake boards</td>\n",
       "      <td>2017</td>\n",
       "      <td>76</td>\n",
       "      <td>Positive</td>\n",
       "      <td>perfect fit easy clean chocolate spill sturdy cake board</td>\n",
       "      <td>56</td>\n",
       "    </tr>\n",
       "    <tr>\n",
       "      <th>52565</th>\n",
       "      <td>2</td>\n",
       "      <td>True</td>\n",
       "      <td>ACJEQZ3EXBJFL</td>\n",
       "      <td>B00KVY2FM6</td>\n",
       "      <td>Bought this in August and it quit working  Worked great till then. Quit working in 5 months</td>\n",
       "      <td>2017</td>\n",
       "      <td>91</td>\n",
       "      <td>Negative</td>\n",
       "      <td>bought august quit working worked great till quit working month</td>\n",
       "      <td>63</td>\n",
       "    </tr>\n",
       "    <tr>\n",
       "      <th>57085</th>\n",
       "      <td>5</td>\n",
       "      <td>True</td>\n",
       "      <td>A2H1BBOTQ2VXGL</td>\n",
       "      <td>B00PF7EPCM</td>\n",
       "      <td>Deep rich purple color, prints wonderfully used the whole spool with 0 problems. prints wonderfully used the whole spool with 0 problems</td>\n",
       "      <td>2017</td>\n",
       "      <td>136</td>\n",
       "      <td>Positive</td>\n",
       "      <td>deep rich purple color print wonderfully used whole spool problem print wonderfully used whole spool problem</td>\n",
       "      <td>108</td>\n",
       "    </tr>\n",
       "  </tbody>\n",
       "</table>\n",
       "</div>"
      ],
      "text/plain": [
       "       overall  verified      reviewerID        asin  \\\n",
       "41768        4      True  A1JUPR7LPMYG1X  B00CI9VIM0   \n",
       "52565        2      True   ACJEQZ3EXBJFL  B00KVY2FM6   \n",
       "57085        5      True  A2H1BBOTQ2VXGL  B00PF7EPCM   \n",
       "\n",
       "                                                                                                                                     reviewText  \\\n",
       "41768                                                              Perfect fit- easy to clean up your chocolate spills, very sturdy Cake boards   \n",
       "52565                                               Bought this in August and it quit working  Worked great till then. Quit working in 5 months   \n",
       "57085  Deep rich purple color, prints wonderfully used the whole spool with 0 problems. prints wonderfully used the whole spool with 0 problems   \n",
       "\n",
       "        year  reviewLength   ratings  \\\n",
       "41768   2017            76  Positive   \n",
       "52565   2017            91  Negative   \n",
       "57085   2017           136  Positive   \n",
       "\n",
       "                                                                                                      clean_reviews  \\\n",
       "41768                                                      perfect fit easy clean chocolate spill sturdy cake board   \n",
       "52565                                               bought august quit working worked great till quit working month   \n",
       "57085  deep rich purple color print wonderfully used whole spool problem print wonderfully used whole spool problem   \n",
       "\n",
       "       cleanLength  \n",
       "41768           56  \n",
       "52565           63  \n",
       "57085          108  "
      ]
     },
     "execution_count": 70,
     "metadata": {},
     "output_type": "execute_result"
    }
   ],
   "source": [
    "sample_df.head(3)"
   ]
  },
  {
   "cell_type": "code",
   "execution_count": 71,
   "id": "afe858ae",
   "metadata": {},
   "outputs": [
    {
     "data": {
      "text/plain": [
       "5    1478\n",
       "4     303\n",
       "3     108\n",
       "1      59\n",
       "2      52\n",
       "Name: overall, dtype: int64"
      ]
     },
     "execution_count": 71,
     "metadata": {},
     "output_type": "execute_result"
    }
   ],
   "source": [
    "sample_df.overall.value_counts()"
   ]
  },
  {
   "cell_type": "code",
   "execution_count": 72,
   "id": "08368037",
   "metadata": {
    "scrolled": false
   },
   "outputs": [
    {
     "data": {
      "image/png": "[encoded data removed]",
      "text/plain": [
       "<Figure size 640x480 with 1 Axes>"
      ]
     },
     "metadata": {},
     "output_type": "display_data"
    }
   ],
   "source": [
    "# Visualize the distribution of the number of reviews across products\n",
    "product_review_counts = sample_df['asin'].value_counts()\n",
    "plt.hist(product_review_counts, bins=50, log=True)\n",
    "plt.xlabel(\"Number of reviews per product\")\n",
    "plt.ylabel(\"Number of products\")\n",
    "plt.title(\"Distribution of reviews across products\")\n",
    "plt.show()"
   ]
  },
  {
   "cell_type": "code",
   "execution_count": 73,
   "id": "d127d859",
   "metadata": {
    "scrolled": false
   },
   "outputs": [
    {
     "data": {
      "image/png": "[encoded data removed]",
      "text/plain": [
       "<Figure size 640x480 with 1 Axes>"
      ]
     },
     "metadata": {},
     "output_type": "display_data"
    }
   ],
   "source": [
    "# Visualize the distribution of the number of reviews per product\n",
    "reviews_per_product = sample_df.groupby('asin')['overall'].count()\n",
    "plt.hist(reviews_per_product, bins=50, log=True)\n",
    "plt.xlabel(\"Number of reviews\")\n",
    "plt.ylabel(\"Number of products\")\n",
    "plt.title(\"Distribution of reviews per product\")\n",
    "plt.show()"
   ]
  },
  {
   "cell_type": "code",
   "execution_count": 74,
   "id": "aa24e170",
   "metadata": {
    "scrolled": false
   },
   "outputs": [
    {
     "data": {
      "image/png": "[encoded data removed]",
      "text/plain": [
       "<Figure size 640x480 with 1 Axes>"
      ]
     },
     "metadata": {},
     "output_type": "display_data"
    }
   ],
   "source": [
    "# Visualize the distribution of reviews per user\n",
    "reviews_per_user = sample_df.groupby('reviewerID')['overall'].count()\n",
    "plt.hist(reviews_per_user, bins=50, log=True)\n",
    "plt.xlabel(\"Number of reviews per user\")\n",
    "plt.ylabel(\"Number of users\")\n",
    "plt.title(\"Distribution of reviews per user\")\n",
    "plt.show()"
   ]
  },
  {
   "cell_type": "markdown",
   "id": "8f11c883",
   "metadata": {},
   "source": [
    "# Text representation"
   ]
  },
  {
   "cell_type": "code",
   "execution_count": 75,
   "id": "b48600e3",
   "metadata": {
    "scrolled": false
   },
   "outputs": [],
   "source": [
    "# cv = CountVectorizer()\n",
    "# count_vectors = cv.fit_transform(df.clean_reviews)"
   ]
  },
  {
   "cell_type": "code",
   "execution_count": 76,
   "id": "3aef5107",
   "metadata": {
    "scrolled": false
   },
   "outputs": [],
   "source": [
    "# print(\"Count Matrix:\\n\", count_vectors.toarray()[:10])\n",
    "# print(\"Feature Names:\\n\", cv.get_feature_names()[:10])"
   ]
  },
  {
   "cell_type": "code",
   "execution_count": 77,
   "id": "8fea8192",
   "metadata": {
    "scrolled": false
   },
   "outputs": [],
   "source": [
    "# TFIDF(Term Frequency — Inverse Document Frequency)\n",
    "tfidf = TfidfVectorizer()\n",
    "tfidf_vectors = tfidf.fit_transform(sample_df.clean_reviews)"
   ]
  },
  {
   "cell_type": "code",
   "execution_count": 78,
   "id": "aba6f912",
   "metadata": {
    "scrolled": false
   },
   "outputs": [
    {
     "name": "stdout",
     "output_type": "stream",
     "text": [
      "TF-IDF Matrix:\n",
      " [[0. 0. 0. ... 0. 0. 0.]\n",
      " [0. 0. 0. ... 0. 0. 0.]\n",
      " [0. 0. 0. ... 0. 0. 0.]\n",
      " ...\n",
      " [0. 0. 0. ... 0. 0. 0.]\n",
      " [0. 0. 0. ... 0. 0. 0.]\n",
      " [0. 0. 0. ... 0. 0. 0.]]\n",
      "Feature Names:\n",
      " ['aa', 'aaa', 'ab', 'ability', 'able', 'absolute', 'absolutely', 'absorbent', 'absorbs', 'abuse']\n"
     ]
    },
    {
     "name": "stderr",
     "output_type": "stream",
     "text": [
      "C:\\ProgramData\\Anaconda3\\lib\\site-packages\\sklearn\\utils\\deprecation.py:87: FutureWarning: Function get_feature_names is deprecated; get_feature_names is deprecated in 1.0 and will be removed in 1.2. Please use get_feature_names_out instead.\n",
      "  warnings.warn(msg, category=FutureWarning)\n"
     ]
    }
   ],
   "source": [
    "print(\"TF-IDF Matrix:\\n\", tfidf_vectors.toarray()[:10])\n",
    "print(\"Feature Names:\\n\", tfidf.get_feature_names()[:10])"
   ]
  },
  {
   "cell_type": "code",
   "execution_count": 79,
   "id": "3596b1fa",
   "metadata": {},
   "outputs": [
    {
     "data": {
      "text/plain": [
       "[('perfect', 27.942572913273118),\n",
       " ('fit', 15.870672993841687),\n",
       " ('easy', 20.188298920850247),\n",
       " ('clean', 7.978286514320568),\n",
       " ('chocolate', 0.9059602578092438),\n",
       " ('spill', 1.5714598655589105),\n",
       " ('sturdy', 6.102109612472921),\n",
       " ('cake', 0.45553520484971194),\n",
       " ('board', 4.027372349383596),\n",
       " ('bought', 12.22408714466111)]"
      ]
     },
     "execution_count": 79,
     "metadata": {},
     "output_type": "execute_result"
    }
   ],
   "source": [
    "tfidf_weigths = [(word, tfidf_vectors.getcol(idx).sum()) for word, idx in tfidf.vocabulary_.items()]\n",
    "tfidf_weigths[:10]"
   ]
  },
  {
   "cell_type": "markdown",
   "id": "b1057e5d",
   "metadata": {},
   "source": [
    "# Sentiment Analysis"
   ]
  },
  {
   "cell_type": "markdown",
   "id": "b4edfe13",
   "metadata": {},
   "source": [
    "### Valence Aware Dictionary and Sentiment Reasoner (VADR) "
   ]
  },
  {
   "cell_type": "markdown",
   "id": "c7dba0c0",
   "metadata": {},
   "source": [
    "VADER performs very well with emojis, slangs and acronyms in sentences. Let us see each with an example.\n",
    "https://medium.com/analytics-vidhya/sentiment-analysis-using-the-vader-library-a91a888e4afd#:~:text=VADER%20performs%20very%20well%20with,see%20each%20with%20an%20example."
   ]
  },
  {
   "cell_type": "code",
   "execution_count": 80,
   "id": "0ff59177",
   "metadata": {
    "scrolled": false
   },
   "outputs": [
    {
     "name": "stderr",
     "output_type": "stream",
     "text": [
      "[nltk_data] Downloading package vader_lexicon to\n",
      "[nltk_data]     C:\\Users\\arsam\\AppData\\Roaming\\nltk_data...\n",
      "[nltk_data]   Package vader_lexicon is already up-to-date!\n"
     ]
    },
    {
     "data": {
      "text/plain": [
       "True"
      ]
     },
     "execution_count": 80,
     "metadata": {},
     "output_type": "execute_result"
    }
   ],
   "source": [
    "nltk.download('vader_lexicon')"
   ]
  },
  {
   "cell_type": "code",
   "execution_count": 81,
   "id": "bdcfcf10",
   "metadata": {
    "scrolled": false
   },
   "outputs": [],
   "source": [
    "sid = SentimentIntensityAnalyzer()\n",
    "\n",
    "sample_df['vaderLexicon'] = sample_df['clean_reviews'].apply(lambda t: sid.polarity_scores(t)[\"compound\"])"
   ]
  },
  {
   "cell_type": "code",
   "execution_count": 82,
   "id": "31b67469",
   "metadata": {
    "scrolled": false
   },
   "outputs": [
    {
     "data": {
      "text/plain": [
       "<AxesSubplot:title={'center':'Sentiment Valence Distribution'}, ylabel='Frequency'>"
      ]
     },
     "execution_count": 82,
     "metadata": {},
     "output_type": "execute_result"
    },
    {
     "data": {
      "image/png": "[encoded data removed]",
      "text/plain": [
       "<Figure size 640x480 with 1 Axes>"
      ]
     },
     "metadata": {},
     "output_type": "display_data"
    }
   ],
   "source": [
    "sample_df['vaderLexicon'].plot(\n",
    "    kind='hist',\n",
    "    bins=30,\n",
    "    xlabel='vaderLexicon',\n",
    "    ylabel='count',\n",
    "    title='Sentiment Valence Distribution')"
   ]
  },
  {
   "cell_type": "code",
   "execution_count": 83,
   "id": "ac262728",
   "metadata": {
    "scrolled": false
   },
   "outputs": [],
   "source": [
    "# Valence Aware Dictionary and Sentiment Reasoner sentiment analysis\n",
    "\n",
    "def vaderLexicon_model(data):\n",
    "    if data['vaderLexicon'] > 0.05:\n",
    "        data['sentiment_v'] = 'Positive'\n",
    "    elif data['vaderLexicon'] < -0.05:\n",
    "        data['sentiment_v'] = 'Negative'\n",
    "    else:\n",
    "        data['sentiment_v'] = 'Neutral'\n",
    "    return data"
   ]
  },
  {
   "cell_type": "code",
   "execution_count": 84,
   "id": "29a950dc",
   "metadata": {
    "scrolled": false
   },
   "outputs": [],
   "source": [
    "sample_df = sample_df.apply(vaderLexicon_model, axis = 1)"
   ]
  },
  {
   "cell_type": "code",
   "execution_count": 85,
   "id": "e613572b",
   "metadata": {
    "scrolled": false
   },
   "outputs": [
    {
     "data": {
      "text/html": [
       "<div>\n",
       "<style scoped>\n",
       "    .dataframe tbody tr th:only-of-type {\n",
       "        vertical-align: middle;\n",
       "    }\n",
       "\n",
       "    .dataframe tbody tr th {\n",
       "        vertical-align: top;\n",
       "    }\n",
       "\n",
       "    .dataframe thead th {\n",
       "        text-align: right;\n",
       "    }\n",
       "</style>\n",
       "<table border=\"1\" class=\"dataframe\">\n",
       "  <thead>\n",
       "    <tr style=\"text-align: right;\">\n",
       "      <th></th>\n",
       "      <th>overall</th>\n",
       "      <th>verified</th>\n",
       "      <th>reviewerID</th>\n",
       "      <th>asin</th>\n",
       "      <th>reviewText</th>\n",
       "      <th>year</th>\n",
       "      <th>reviewLength</th>\n",
       "      <th>ratings</th>\n",
       "      <th>clean_reviews</th>\n",
       "      <th>cleanLength</th>\n",
       "      <th>vaderLexicon</th>\n",
       "      <th>sentiment_v</th>\n",
       "    </tr>\n",
       "  </thead>\n",
       "  <tbody>\n",
       "    <tr>\n",
       "      <th>41768</th>\n",
       "      <td>4</td>\n",
       "      <td>True</td>\n",
       "      <td>A1JUPR7LPMYG1X</td>\n",
       "      <td>B00CI9VIM0</td>\n",
       "      <td>Perfect fit- easy to clean up your chocolate spills, very sturdy Cake boards</td>\n",
       "      <td>2017</td>\n",
       "      <td>76</td>\n",
       "      <td>Positive</td>\n",
       "      <td>perfect fit easy clean chocolate spill sturdy cake board</td>\n",
       "      <td>56</td>\n",
       "      <td>0.8957</td>\n",
       "      <td>Positive</td>\n",
       "    </tr>\n",
       "    <tr>\n",
       "      <th>52565</th>\n",
       "      <td>2</td>\n",
       "      <td>True</td>\n",
       "      <td>ACJEQZ3EXBJFL</td>\n",
       "      <td>B00KVY2FM6</td>\n",
       "      <td>Bought this in August and it quit working  Worked great till then. Quit working in 5 months</td>\n",
       "      <td>2017</td>\n",
       "      <td>91</td>\n",
       "      <td>Negative</td>\n",
       "      <td>bought august quit working worked great till quit working month</td>\n",
       "      <td>63</td>\n",
       "      <td>0.6249</td>\n",
       "      <td>Positive</td>\n",
       "    </tr>\n",
       "    <tr>\n",
       "      <th>57085</th>\n",
       "      <td>5</td>\n",
       "      <td>True</td>\n",
       "      <td>A2H1BBOTQ2VXGL</td>\n",
       "      <td>B00PF7EPCM</td>\n",
       "      <td>Deep rich purple color, prints wonderfully used the whole spool with 0 problems. prints wonderfully used the whole spool with 0 problems</td>\n",
       "      <td>2017</td>\n",
       "      <td>136</td>\n",
       "      <td>Positive</td>\n",
       "      <td>deep rich purple color print wonderfully used whole spool problem print wonderfully used whole spool problem</td>\n",
       "      <td>108</td>\n",
       "      <td>0.7906</td>\n",
       "      <td>Positive</td>\n",
       "    </tr>\n",
       "  </tbody>\n",
       "</table>\n",
       "</div>"
      ],
      "text/plain": [
       "       overall  verified      reviewerID        asin  \\\n",
       "41768        4      True  A1JUPR7LPMYG1X  B00CI9VIM0   \n",
       "52565        2      True   ACJEQZ3EXBJFL  B00KVY2FM6   \n",
       "57085        5      True  A2H1BBOTQ2VXGL  B00PF7EPCM   \n",
       "\n",
       "                                                                                                                                     reviewText  \\\n",
       "41768                                                              Perfect fit- easy to clean up your chocolate spills, very sturdy Cake boards   \n",
       "52565                                               Bought this in August and it quit working  Worked great till then. Quit working in 5 months   \n",
       "57085  Deep rich purple color, prints wonderfully used the whole spool with 0 problems. prints wonderfully used the whole spool with 0 problems   \n",
       "\n",
       "        year  reviewLength   ratings  \\\n",
       "41768   2017            76  Positive   \n",
       "52565   2017            91  Negative   \n",
       "57085   2017           136  Positive   \n",
       "\n",
       "                                                                                                      clean_reviews  \\\n",
       "41768                                                      perfect fit easy clean chocolate spill sturdy cake board   \n",
       "52565                                               bought august quit working worked great till quit working month   \n",
       "57085  deep rich purple color print wonderfully used whole spool problem print wonderfully used whole spool problem   \n",
       "\n",
       "       cleanLength  vaderLexicon sentiment_v  \n",
       "41768           56        0.8957    Positive  \n",
       "52565           63        0.6249    Positive  \n",
       "57085          108        0.7906    Positive  "
      ]
     },
     "execution_count": 85,
     "metadata": {},
     "output_type": "execute_result"
    }
   ],
   "source": [
    "sample_df.head(3)"
   ]
  },
  {
   "cell_type": "code",
   "execution_count": 86,
   "id": "69210819",
   "metadata": {
    "scrolled": false
   },
   "outputs": [
    {
     "data": {
      "text/plain": [
       "True     1554\n",
       "False     446\n",
       "Name: sentiment_v, dtype: int64"
      ]
     },
     "execution_count": 86,
     "metadata": {},
     "output_type": "execute_result"
    }
   ],
   "source": [
    "sample_df['sentiment_v'].where(sample_df['sentiment_v'].values == sample_df['ratings'].values).notna().value_counts()"
   ]
  },
  {
   "cell_type": "code",
   "execution_count": 87,
   "id": "1c2f5c4b",
   "metadata": {
    "scrolled": false
   },
   "outputs": [
    {
     "data": {
      "text/plain": [
       "ratings   sentiment_v\n",
       "Positive  Positive       1481\n",
       "          Neutral         205\n",
       "          Negative         95\n",
       "Neutral   Positive         63\n",
       "Negative  Negative         52\n",
       "          Positive         42\n",
       "Neutral   Negative         24\n",
       "          Neutral          21\n",
       "Negative  Neutral          17\n",
       "dtype: int64"
      ]
     },
     "execution_count": 87,
     "metadata": {},
     "output_type": "execute_result"
    }
   ],
   "source": [
    "sample_df[['ratings','sentiment_v']].value_counts()"
   ]
  },
  {
   "cell_type": "code",
   "execution_count": 88,
   "id": "e961802e",
   "metadata": {
    "scrolled": true
   },
   "outputs": [
    {
     "name": "stdout",
     "output_type": "stream",
     "text": [
      "\n",
      "\n",
      "Vader Lexicon:\n",
      "              precision    recall  f1-score   support\n",
      "\n",
      "    Negative       0.30      0.47      0.37       111\n",
      "     Neutral       0.09      0.19      0.12       108\n",
      "    Positive       0.93      0.83      0.88      1781\n",
      "\n",
      "    accuracy                           0.78      2000\n",
      "   macro avg       0.44      0.50      0.46      2000\n",
      "weighted avg       0.85      0.78      0.81      2000\n",
      "\n"
     ]
    },
    {
     "data": {
      "text/plain": [
       "<AxesSubplot:>"
      ]
     },
     "execution_count": 88,
     "metadata": {},
     "output_type": "execute_result"
    },
    {
     "data": {
      "image/png": "[encoded data removed]",
      "text/plain": [
       "<Figure size 640x480 with 2 Axes>"
      ]
     },
     "metadata": {},
     "output_type": "display_data"
    }
   ],
   "source": [
    "print(f\"\\n\\nVader Lexicon:\\n{classification_report(sample_df['ratings'], sample_df['sentiment_v'])}\")\n",
    "\n",
    "data_cm = confusion_matrix(sample_df['ratings'], sample_df['sentiment_v'])\n",
    "sns.heatmap(data_cm, annot=True, fmt='', cmap='Greens')"
   ]
  },
  {
   "cell_type": "code",
   "execution_count": 89,
   "id": "26c68771",
   "metadata": {
    "scrolled": false
   },
   "outputs": [
    {
     "name": "stdout",
     "output_type": "stream",
     "text": [
      "Confusion Matrix of Vader Tool:\n",
      "\n",
      "                     Predicted\n",
      "         | Positive |  Neutral | Negative |\n",
      "---------|----------|----------|----------|\n",
      "Positive |    52    |    17    |    42    |\n",
      "---------|----------|----------|----------|\n",
      "Neutral  |    24    |    21    |    63    |\n",
      "---------|----------|----------|----------|\n",
      "Negative |    95    |   205    |   1481   |\n"
     ]
    }
   ],
   "source": [
    "print(\"Confusion Matrix of Vader Tool:\\n\")\n",
    "print(\"                     Predicted\")\n",
    "print(\"         | Positive |  Neutral | Negative |\")\n",
    "print(\"---------|----------|----------|----------|\")\n",
    "print(f\"Positive | {data_cm[0][0]:^8} | {data_cm[0][1]:^8} | {data_cm[0][2]:^8} |\")\n",
    "print(\"---------|----------|----------|----------|\")\n",
    "print(f\"Neutral  | {data_cm[1][0]:^8} | {data_cm[1][1]:^8} | {data_cm[1][2]:^8} |\")\n",
    "print(\"---------|----------|----------|----------|\")\n",
    "print(f\"Negative | {data_cm[2][0]:^8} | {data_cm[2][1]:^8} | {data_cm[2][2]:^8} |\")"
   ]
  },
  {
   "cell_type": "markdown",
   "id": "746d8a72",
   "metadata": {},
   "source": [
    "### TextBlob sentiment analysis tool"
   ]
  },
  {
   "cell_type": "markdown",
   "id": "181da6fd",
   "metadata": {},
   "source": [
    " TextBlob has semantic labels that help with fine-grained analysis. For example — emoticons, exclamation mark, emojis, etc\n",
    " https://towardsdatascience.com/my-absolute-go-to-for-sentiment-analysis-textblob-3ac3a11d524#:~:text=TextBlob%20has%20semantic%20labels%20that,exclamation%20mark%2C%20emojis%2C%20etc."
   ]
  },
  {
   "cell_type": "code",
   "execution_count": 90,
   "id": "f21936fc",
   "metadata": {
    "scrolled": false
   },
   "outputs": [],
   "source": [
    "sample_df['TextBlob'] = sample_df['clean_reviews'].apply(lambda t: TextBlob(t).sentiment.polarity)"
   ]
  },
  {
   "cell_type": "code",
   "execution_count": 91,
   "id": "37276a19",
   "metadata": {
    "scrolled": false
   },
   "outputs": [
    {
     "data": {
      "text/plain": [
       "<AxesSubplot:title={'center':'Sentiment TextBlob Distribution'}, ylabel='Frequency'>"
      ]
     },
     "execution_count": 91,
     "metadata": {},
     "output_type": "execute_result"
    },
    {
     "data": {
      "image/png": "[encoded data removed]",
      "text/plain": [
       "<Figure size 640x480 with 1 Axes>"
      ]
     },
     "metadata": {},
     "output_type": "display_data"
    }
   ],
   "source": [
    "sample_df['TextBlob'].plot(\n",
    "    kind='hist',\n",
    "    bins=30,\n",
    "    xlabel='polarity',\n",
    "    ylabel='count',\n",
    "    title='Sentiment TextBlob Distribution')"
   ]
  },
  {
   "cell_type": "code",
   "execution_count": 92,
   "id": "e88be4d1",
   "metadata": {
    "scrolled": false
   },
   "outputs": [],
   "source": [
    "def TextBlob_model(data):\n",
    "    if data['TextBlob'] > 0.05:\n",
    "        data['sentiment_b'] = 'Positive'\n",
    "    elif data['TextBlob'] < -0.05:\n",
    "        data['sentiment_b'] = 'Negative'\n",
    "    else:\n",
    "        data['sentiment_b'] = 'Neutral'\n",
    "    return data"
   ]
  },
  {
   "cell_type": "code",
   "execution_count": 93,
   "id": "d4cb37c2",
   "metadata": {
    "scrolled": false
   },
   "outputs": [],
   "source": [
    "sample_df = sample_df.apply(TextBlob_model, axis = 1)"
   ]
  },
  {
   "cell_type": "code",
   "execution_count": 94,
   "id": "af8f12cb",
   "metadata": {
    "scrolled": false
   },
   "outputs": [
    {
     "data": {
      "text/plain": [
       "True     1522\n",
       "False     478\n",
       "Name: sentiment_b, dtype: int64"
      ]
     },
     "execution_count": 94,
     "metadata": {},
     "output_type": "execute_result"
    }
   ],
   "source": [
    "sample_df['sentiment_b'].where(sample_df['sentiment_b'].values == sample_df['ratings'].values).notna().value_counts()"
   ]
  },
  {
   "cell_type": "code",
   "execution_count": 95,
   "id": "6e147957",
   "metadata": {
    "scrolled": false
   },
   "outputs": [
    {
     "data": {
      "text/plain": [
       "ratings   sentiment_b\n",
       "Positive  Positive       1464\n",
       "          Neutral         241\n",
       "          Negative         76\n",
       "Neutral   Positive         72\n",
       "Negative  Positive         44\n",
       "          Negative         38\n",
       "          Neutral          29\n",
       "Neutral   Neutral          20\n",
       "          Negative         16\n",
       "dtype: int64"
      ]
     },
     "execution_count": 95,
     "metadata": {},
     "output_type": "execute_result"
    }
   ],
   "source": [
    "sample_df[['ratings','sentiment_b']].value_counts()"
   ]
  },
  {
   "cell_type": "code",
   "execution_count": 96,
   "id": "1c077d44",
   "metadata": {
    "scrolled": false
   },
   "outputs": [
    {
     "name": "stdout",
     "output_type": "stream",
     "text": [
      "\n",
      "\n",
      "TextBlob Lexicon:\n",
      "              precision    recall  f1-score   support\n",
      "\n",
      "    Negative       0.29      0.34      0.32       111\n",
      "     Neutral       0.07      0.19      0.10       108\n",
      "    Positive       0.93      0.82      0.87      1781\n",
      "\n",
      "    accuracy                           0.76      2000\n",
      "   macro avg       0.43      0.45      0.43      2000\n",
      "weighted avg       0.85      0.76      0.80      2000\n",
      "\n"
     ]
    },
    {
     "data": {
      "text/plain": [
       "<AxesSubplot:>"
      ]
     },
     "execution_count": 96,
     "metadata": {},
     "output_type": "execute_result"
    },
    {
     "data": {
      "image/png": "[encoded data removed]",
      "text/plain": [
       "<Figure size 640x480 with 2 Axes>"
      ]
     },
     "metadata": {},
     "output_type": "display_data"
    }
   ],
   "source": [
    "print(f\"\\n\\nTextBlob Lexicon:\\n{classification_report(sample_df['ratings'], sample_df['sentiment_b'])}\")\n",
    "\n",
    "data_cmb = confusion_matrix(sample_df['ratings'], sample_df['sentiment_b'])\n",
    "sns.heatmap(data_cmb, annot=True, fmt='', cmap='Greens')"
   ]
  },
  {
   "cell_type": "code",
   "execution_count": 97,
   "id": "6de1e831",
   "metadata": {
    "scrolled": true
   },
   "outputs": [
    {
     "name": "stdout",
     "output_type": "stream",
     "text": [
      "Confusion Matrix of TextBlob Tool:\n",
      "\n",
      "                     Predicted\n",
      "         | Positive |  Neutral | Negative |\n",
      "---------|----------|----------|----------|\n",
      "Positive |    38    |    29    |    44    |\n",
      "---------|----------|----------|----------|\n",
      "Neutral  |    16    |    20    |    72    |\n",
      "---------|----------|----------|----------|\n",
      "Negative |    76    |   241    |   1464   |\n"
     ]
    }
   ],
   "source": [
    "print(\"Confusion Matrix of TextBlob Tool:\\n\")\n",
    "print(\"                     Predicted\")\n",
    "print(\"         | Positive |  Neutral | Negative |\")\n",
    "print(\"---------|----------|----------|----------|\")\n",
    "print(f\"Positive | {data_cmb[0][0]:^8} | {data_cmb[0][1]:^8} | {data_cmb[0][2]:^8} |\")\n",
    "print(\"---------|----------|----------|----------|\")\n",
    "print(f\"Neutral  | {data_cmb[1][0]:^8} | {data_cmb[1][1]:^8} | {data_cmb[1][2]:^8} |\")\n",
    "print(\"---------|----------|----------|----------|\")\n",
    "print(f\"Negative | {data_cmb[2][0]:^8} | {data_cmb[2][1]:^8} | {data_cmb[2][2]:^8} |\")"
   ]
  },
  {
   "cell_type": "markdown",
   "id": "bb5f6a9d",
   "metadata": {},
   "source": [
    "### SENTIWORDNET  sentiment analysis tool"
   ]
  },
  {
   "cell_type": "code",
   "execution_count": 98,
   "id": "a50ba654",
   "metadata": {
    "scrolled": false
   },
   "outputs": [],
   "source": [
    "# a word is a tuple (w, tag) such as ('bathrooms', 'NNS')\n",
    "# Convert between the PennTreebank tags to simple Wordnet tags\n",
    "def penn_to_wn(tag):\n",
    "    if tag.startswith('J'):\n",
    "        return wn.ADJ\n",
    "    elif tag.startswith('N'):\n",
    "        return wn.NOUN\n",
    "    elif tag.startswith('R'):\n",
    "        return wn.ADV\n",
    "    elif tag.startswith('V'):\n",
    "        return wn.VERB\n",
    "    return None"
   ]
  },
  {
   "cell_type": "code",
   "execution_count": 99,
   "id": "76f79a38",
   "metadata": {
    "scrolled": false
   },
   "outputs": [],
   "source": [
    "def SENTIWORDNET_model(data):\n",
    "    token = word_tokenize(data)\n",
    "    after_tagging = pos_tag(token)\n",
    "    sentiment = 0.0\n",
    "    tokens_count = 0\n",
    "    \n",
    "    for word, tag in after_tagging:\n",
    "        wn_tag = penn_to_wn(tag)\n",
    "        if wn_tag not in (wn.NOUN, wn.ADJ, wn.ADV):\n",
    "            continue\n",
    "        #lemmatize token\n",
    "        lemma = lemmatizer.lemmatize(word, pos=wn_tag)\n",
    "        if not lemma:\n",
    "            continue\n",
    "        #all synsets of the word\n",
    "        synsets = wn.synsets(lemma, pos=wn_tag)\n",
    "        if not synsets:\n",
    "            continue\n",
    "        \n",
    "        # take the first sense\n",
    "        synset = synsets[0]\n",
    "        #SentiWordNet synset\n",
    "        swn_synset = swn.senti_synset(synset.name()) \n",
    "        #polarity score for the word\n",
    "        sentiment += (swn_synset.pos_score() - swn_synset.neg_score())\n",
    "        tokens_count += 1\n",
    "    \n",
    "    if sentiment > 0.05:\n",
    "        return 'Positive'\n",
    "    elif sentiment < -0.05:\n",
    "        return 'Negative'\n",
    "    else:\n",
    "        return 'Neutral'"
   ]
  },
  {
   "cell_type": "code",
   "execution_count": 100,
   "id": "b7fabc67",
   "metadata": {
    "scrolled": false
   },
   "outputs": [],
   "source": [
    "sample_df['sentiment_s'] = sample_df['clean_reviews'].apply( lambda x : SENTIWORDNET_model(x) )"
   ]
  },
  {
   "cell_type": "code",
   "execution_count": 101,
   "id": "b01dd84a",
   "metadata": {
    "scrolled": false
   },
   "outputs": [
    {
     "data": {
      "text/plain": [
       "True     1266\n",
       "False     734\n",
       "Name: sentiment_s, dtype: int64"
      ]
     },
     "execution_count": 101,
     "metadata": {},
     "output_type": "execute_result"
    }
   ],
   "source": [
    "sample_df['sentiment_s'].where(sample_df['sentiment_s'].values == sample_df['ratings'].values).notna().value_counts()"
   ]
  },
  {
   "cell_type": "code",
   "execution_count": 102,
   "id": "e44d1931",
   "metadata": {
    "scrolled": false
   },
   "outputs": [
    {
     "name": "stdout",
     "output_type": "stream",
     "text": [
      "\n",
      "\n",
      "SENTIWORDNET Lexicon:\n",
      "              precision    recall  f1-score   support\n",
      "\n",
      "    Negative       0.18      0.60      0.27       111\n",
      "     Neutral       0.04      0.14      0.06       108\n",
      "    Positive       0.94      0.66      0.78      1781\n",
      "\n",
      "    accuracy                           0.63      2000\n",
      "   macro avg       0.38      0.47      0.37      2000\n",
      "weighted avg       0.84      0.63      0.71      2000\n",
      "\n"
     ]
    },
    {
     "data": {
      "text/plain": [
       "<AxesSubplot:>"
      ]
     },
     "execution_count": 102,
     "metadata": {},
     "output_type": "execute_result"
    },
    {
     "data": {
      "image/png": "[encoded data removed]",
      "text/plain": [
       "<Figure size 640x480 with 2 Axes>"
      ]
     },
     "metadata": {},
     "output_type": "display_data"
    }
   ],
   "source": [
    "print(f\"\\n\\nSENTIWORDNET Lexicon:\\n{classification_report(sample_df['ratings'], sample_df['sentiment_s'])}\")\n",
    "\n",
    "data_cmb_s = confusion_matrix(sample_df['ratings'], sample_df['sentiment_s'])\n",
    "sns.heatmap(data_cmb_s, annot=True, fmt='', cmap='Greens')"
   ]
  },
  {
   "cell_type": "code",
   "execution_count": 103,
   "id": "5fb35c07",
   "metadata": {},
   "outputs": [
    {
     "name": "stdout",
     "output_type": "stream",
     "text": [
      "Confusion Matrix of SENTIWORDNET Tool:\n",
      "\n",
      "                     Predicted\n",
      "         | Positive |  Neutral | Negative |\n",
      "---------|----------|----------|----------|\n",
      "Positive |    67    |    12    |    32    |\n",
      "---------|----------|----------|----------|\n",
      "Neutral  |    43    |    15    |    50    |\n",
      "---------|----------|----------|----------|\n",
      "Negative |   267    |   330    |   1184   |\n"
     ]
    }
   ],
   "source": [
    "print(\"Confusion Matrix of SENTIWORDNET Tool:\\n\")\n",
    "print(\"                     Predicted\")\n",
    "print(\"         | Positive |  Neutral | Negative |\")\n",
    "print(\"---------|----------|----------|----------|\")\n",
    "print(f\"Positive | {data_cmb_s[0][0]:^8} | {data_cmb_s[0][1]:^8} | {data_cmb_s[0][2]:^8} |\")\n",
    "print(\"---------|----------|----------|----------|\")\n",
    "print(f\"Neutral  | {data_cmb_s[1][0]:^8} | {data_cmb_s[1][1]:^8} | {data_cmb_s[1][2]:^8} |\")\n",
    "print(\"---------|----------|----------|----------|\")\n",
    "print(f\"Negative | {data_cmb_s[2][0]:^8} | {data_cmb_s[2][1]:^8} | {data_cmb_s[2][2]:^8} |\")"
   ]
  },
  {
   "cell_type": "code",
   "execution_count": 104,
   "id": "7d2ccaae",
   "metadata": {
    "scrolled": false
   },
   "outputs": [
    {
     "data": {
      "text/html": [
       "<div>\n",
       "<style scoped>\n",
       "    .dataframe tbody tr th:only-of-type {\n",
       "        vertical-align: middle;\n",
       "    }\n",
       "\n",
       "    .dataframe tbody tr th {\n",
       "        vertical-align: top;\n",
       "    }\n",
       "\n",
       "    .dataframe thead th {\n",
       "        text-align: right;\n",
       "    }\n",
       "</style>\n",
       "<table border=\"1\" class=\"dataframe\">\n",
       "  <thead>\n",
       "    <tr style=\"text-align: right;\">\n",
       "      <th></th>\n",
       "      <th>overall</th>\n",
       "      <th>verified</th>\n",
       "      <th>reviewerID</th>\n",
       "      <th>asin</th>\n",
       "      <th>reviewText</th>\n",
       "      <th>year</th>\n",
       "      <th>reviewLength</th>\n",
       "      <th>ratings</th>\n",
       "      <th>clean_reviews</th>\n",
       "      <th>cleanLength</th>\n",
       "      <th>vaderLexicon</th>\n",
       "      <th>sentiment_v</th>\n",
       "      <th>TextBlob</th>\n",
       "      <th>sentiment_b</th>\n",
       "      <th>sentiment_s</th>\n",
       "    </tr>\n",
       "  </thead>\n",
       "  <tbody>\n",
       "    <tr>\n",
       "      <th>41768</th>\n",
       "      <td>4</td>\n",
       "      <td>True</td>\n",
       "      <td>A1JUPR7LPMYG1X</td>\n",
       "      <td>B00CI9VIM0</td>\n",
       "      <td>Perfect fit- easy to clean up your chocolate spills, very sturdy Cake boards</td>\n",
       "      <td>2017</td>\n",
       "      <td>76</td>\n",
       "      <td>Positive</td>\n",
       "      <td>perfect fit easy clean chocolate spill sturdy cake board</td>\n",
       "      <td>56</td>\n",
       "      <td>0.8957</td>\n",
       "      <td>Positive</td>\n",
       "      <td>0.5500</td>\n",
       "      <td>Positive</td>\n",
       "      <td>Positive</td>\n",
       "    </tr>\n",
       "    <tr>\n",
       "      <th>52565</th>\n",
       "      <td>2</td>\n",
       "      <td>True</td>\n",
       "      <td>ACJEQZ3EXBJFL</td>\n",
       "      <td>B00KVY2FM6</td>\n",
       "      <td>Bought this in August and it quit working  Worked great till then. Quit working in 5 months</td>\n",
       "      <td>2017</td>\n",
       "      <td>91</td>\n",
       "      <td>Negative</td>\n",
       "      <td>bought august quit working worked great till quit working month</td>\n",
       "      <td>63</td>\n",
       "      <td>0.6249</td>\n",
       "      <td>Positive</td>\n",
       "      <td>0.8000</td>\n",
       "      <td>Positive</td>\n",
       "      <td>Negative</td>\n",
       "    </tr>\n",
       "    <tr>\n",
       "      <th>57085</th>\n",
       "      <td>5</td>\n",
       "      <td>True</td>\n",
       "      <td>A2H1BBOTQ2VXGL</td>\n",
       "      <td>B00PF7EPCM</td>\n",
       "      <td>Deep rich purple color, prints wonderfully used the whole spool with 0 problems. prints wonderfully used the whole spool with 0 problems</td>\n",
       "      <td>2017</td>\n",
       "      <td>136</td>\n",
       "      <td>Positive</td>\n",
       "      <td>deep rich purple color print wonderfully used whole spool problem print wonderfully used whole spool problem</td>\n",
       "      <td>108</td>\n",
       "      <td>0.7906</td>\n",
       "      <td>Positive</td>\n",
       "      <td>0.4625</td>\n",
       "      <td>Positive</td>\n",
       "      <td>Negative</td>\n",
       "    </tr>\n",
       "  </tbody>\n",
       "</table>\n",
       "</div>"
      ],
      "text/plain": [
       "       overall  verified      reviewerID        asin  \\\n",
       "41768        4      True  A1JUPR7LPMYG1X  B00CI9VIM0   \n",
       "52565        2      True   ACJEQZ3EXBJFL  B00KVY2FM6   \n",
       "57085        5      True  A2H1BBOTQ2VXGL  B00PF7EPCM   \n",
       "\n",
       "                                                                                                                                     reviewText  \\\n",
       "41768                                                              Perfect fit- easy to clean up your chocolate spills, very sturdy Cake boards   \n",
       "52565                                               Bought this in August and it quit working  Worked great till then. Quit working in 5 months   \n",
       "57085  Deep rich purple color, prints wonderfully used the whole spool with 0 problems. prints wonderfully used the whole spool with 0 problems   \n",
       "\n",
       "        year  reviewLength   ratings  \\\n",
       "41768   2017            76  Positive   \n",
       "52565   2017            91  Negative   \n",
       "57085   2017           136  Positive   \n",
       "\n",
       "                                                                                                      clean_reviews  \\\n",
       "41768                                                      perfect fit easy clean chocolate spill sturdy cake board   \n",
       "52565                                               bought august quit working worked great till quit working month   \n",
       "57085  deep rich purple color print wonderfully used whole spool problem print wonderfully used whole spool problem   \n",
       "\n",
       "       cleanLength  vaderLexicon sentiment_v  TextBlob sentiment_b sentiment_s  \n",
       "41768           56        0.8957    Positive    0.5500    Positive    Positive  \n",
       "52565           63        0.6249    Positive    0.8000    Positive    Negative  \n",
       "57085          108        0.7906    Positive    0.4625    Positive    Negative  "
      ]
     },
     "execution_count": 104,
     "metadata": {},
     "output_type": "execute_result"
    }
   ],
   "source": [
    "sample_df.head(3)"
   ]
  },
  {
   "cell_type": "code",
   "execution_count": 105,
   "id": "21cc1170",
   "metadata": {
    "scrolled": false
   },
   "outputs": [
    {
     "data": {
      "text/html": [
       "<div>\n",
       "<style scoped>\n",
       "    .dataframe tbody tr th:only-of-type {\n",
       "        vertical-align: middle;\n",
       "    }\n",
       "\n",
       "    .dataframe tbody tr th {\n",
       "        vertical-align: top;\n",
       "    }\n",
       "\n",
       "    .dataframe thead th {\n",
       "        text-align: right;\n",
       "    }\n",
       "</style>\n",
       "<table border=\"1\" class=\"dataframe\">\n",
       "  <thead>\n",
       "    <tr style=\"text-align: right;\">\n",
       "      <th></th>\n",
       "      <th>clean_reviews</th>\n",
       "      <th>vaderLexicon</th>\n",
       "      <th>TextBlob</th>\n",
       "    </tr>\n",
       "  </thead>\n",
       "  <tbody>\n",
       "    <tr>\n",
       "      <th>41768</th>\n",
       "      <td>perfect fit easy clean chocolate spill sturdy cake board</td>\n",
       "      <td>0.8957</td>\n",
       "      <td>0.5500</td>\n",
       "    </tr>\n",
       "    <tr>\n",
       "      <th>52565</th>\n",
       "      <td>bought august quit working worked great till quit working month</td>\n",
       "      <td>0.6249</td>\n",
       "      <td>0.8000</td>\n",
       "    </tr>\n",
       "    <tr>\n",
       "      <th>57085</th>\n",
       "      <td>deep rich purple color print wonderfully used whole spool problem print wonderfully used whole spool problem</td>\n",
       "      <td>0.7906</td>\n",
       "      <td>0.4625</td>\n",
       "    </tr>\n",
       "  </tbody>\n",
       "</table>\n",
       "</div>"
      ],
      "text/plain": [
       "                                                                                                      clean_reviews  \\\n",
       "41768                                                      perfect fit easy clean chocolate spill sturdy cake board   \n",
       "52565                                               bought august quit working worked great till quit working month   \n",
       "57085  deep rich purple color print wonderfully used whole spool problem print wonderfully used whole spool problem   \n",
       "\n",
       "       vaderLexicon  TextBlob  \n",
       "41768        0.8957    0.5500  \n",
       "52565        0.6249    0.8000  \n",
       "57085        0.7906    0.4625  "
      ]
     },
     "execution_count": 105,
     "metadata": {},
     "output_type": "execute_result"
    }
   ],
   "source": [
    "sample_df[['clean_reviews','vaderLexicon','TextBlob']].head(3)"
   ]
  },
  {
   "cell_type": "code",
   "execution_count": 106,
   "id": "7011e14c",
   "metadata": {
    "scrolled": false
   },
   "outputs": [
    {
     "data": {
      "text/html": [
       "<div>\n",
       "<style scoped>\n",
       "    .dataframe tbody tr th:only-of-type {\n",
       "        vertical-align: middle;\n",
       "    }\n",
       "\n",
       "    .dataframe tbody tr th {\n",
       "        vertical-align: top;\n",
       "    }\n",
       "\n",
       "    .dataframe thead th {\n",
       "        text-align: right;\n",
       "    }\n",
       "</style>\n",
       "<table border=\"1\" class=\"dataframe\">\n",
       "  <thead>\n",
       "    <tr style=\"text-align: right;\">\n",
       "      <th></th>\n",
       "      <th>sentiment_v</th>\n",
       "      <th>sentiment_b</th>\n",
       "      <th>sentiment_s</th>\n",
       "    </tr>\n",
       "  </thead>\n",
       "  <tbody>\n",
       "    <tr>\n",
       "      <th>41768</th>\n",
       "      <td>Positive</td>\n",
       "      <td>Positive</td>\n",
       "      <td>Positive</td>\n",
       "    </tr>\n",
       "    <tr>\n",
       "      <th>52565</th>\n",
       "      <td>Positive</td>\n",
       "      <td>Positive</td>\n",
       "      <td>Negative</td>\n",
       "    </tr>\n",
       "    <tr>\n",
       "      <th>57085</th>\n",
       "      <td>Positive</td>\n",
       "      <td>Positive</td>\n",
       "      <td>Negative</td>\n",
       "    </tr>\n",
       "  </tbody>\n",
       "</table>\n",
       "</div>"
      ],
      "text/plain": [
       "      sentiment_v sentiment_b sentiment_s\n",
       "41768    Positive    Positive    Positive\n",
       "52565    Positive    Positive    Negative\n",
       "57085    Positive    Positive    Negative"
      ]
     },
     "execution_count": 106,
     "metadata": {},
     "output_type": "execute_result"
    }
   ],
   "source": [
    "sample_df[['sentiment_v','sentiment_b','sentiment_s']].head(3)"
   ]
  },
  {
   "cell_type": "code",
   "execution_count": 107,
   "id": "b364d444",
   "metadata": {
    "scrolled": false
   },
   "outputs": [
    {
     "name": "stdout",
     "output_type": "stream",
     "text": [
      "Accuracy of Vader Lexicon: 0.7770\n",
      "Accuracy of TextBlob Lexicon: 0.7610\n",
      "Accuracy of SENTIWORDNET Lexicon: 0.6330\n"
     ]
    }
   ],
   "source": [
    "print(f\"Accuracy of Vader Lexicon: {accuracy_score(sample_df['sentiment_v'],sample_df['ratings']):.4f}\")\n",
    "print(f\"Accuracy of TextBlob Lexicon: {accuracy_score(sample_df['sentiment_b'],sample_df['ratings']):.4f}\")\n",
    "print(f\"Accuracy of SENTIWORDNET Lexicon: {accuracy_score(sample_df['sentiment_s'],sample_df['ratings']):.4f}\")"
   ]
  },
  {
   "cell_type": "markdown",
   "id": "426bcea9",
   "metadata": {},
   "source": [
    "# Phase 02"
   ]
  },
  {
   "cell_type": "code",
   "execution_count": 108,
   "id": "eaf1bd3a",
   "metadata": {},
   "outputs": [],
   "source": [
    "from sklearn.linear_model import LogisticRegression\n",
    "from sklearn.ensemble import GradientBoostingClassifier\n",
    "from sklearn.metrics import accuracy_score, precision_score, recall_score, f1_score"
   ]
  },
  {
   "cell_type": "markdown",
   "id": "0b7d404f",
   "metadata": {},
   "source": [
    "Logistic Regression :\n",
    "<li>simple and fast to train\n",
    "<li>well-suited for problems with two or more classes\n",
    "<li>easily extended to handle multiclass problem\n",
    "\n",
    "Gradient Boosting:\n",
    "<li>good at handling complex datasets with a large number of features\n",
    "<li>produce very accurate predictions \n",
    "<li>particularly well-suited for problems with imbalanced classes"
   ]
  },
  {
   "cell_type": "code",
   "execution_count": 109,
   "id": "d743030d",
   "metadata": {},
   "outputs": [
    {
     "name": "stdout",
     "output_type": "stream",
     "text": [
      "Length Data is 65993 and Sample is 2000 and remaining is 63993\n"
     ]
    }
   ],
   "source": [
    "remaining_df = df[~df.index.isin(sample_df.index)]\n",
    "print(f'Length Data is {len(df)} and Sample is {len(sample_df)} and remaining is {len(remaining_df)}')"
   ]
  },
  {
   "cell_type": "code",
   "execution_count": 110,
   "id": "6952b63d",
   "metadata": {},
   "outputs": [
    {
     "data": {
      "text/html": [
       "<div>\n",
       "<style scoped>\n",
       "    .dataframe tbody tr th:only-of-type {\n",
       "        vertical-align: middle;\n",
       "    }\n",
       "\n",
       "    .dataframe tbody tr th {\n",
       "        vertical-align: top;\n",
       "    }\n",
       "\n",
       "    .dataframe thead th {\n",
       "        text-align: right;\n",
       "    }\n",
       "</style>\n",
       "<table border=\"1\" class=\"dataframe\">\n",
       "  <thead>\n",
       "    <tr style=\"text-align: right;\">\n",
       "      <th></th>\n",
       "      <th>overall</th>\n",
       "      <th>verified</th>\n",
       "      <th>reviewerID</th>\n",
       "      <th>asin</th>\n",
       "      <th>reviewText</th>\n",
       "      <th>year</th>\n",
       "      <th>reviewLength</th>\n",
       "      <th>ratings</th>\n",
       "      <th>clean_reviews</th>\n",
       "      <th>cleanLength</th>\n",
       "    </tr>\n",
       "  </thead>\n",
       "  <tbody>\n",
       "    <tr>\n",
       "      <th>0</th>\n",
       "      <td>5</td>\n",
       "      <td>True</td>\n",
       "      <td>A1JB7HFWHRYHT7</td>\n",
       "      <td>B0000223SI</td>\n",
       "      <td>This worked really well for what I used it for. So for my purposes it is getting full marks. This is an all around great, durable, and afforable sandpaper.\\n\\nPros:\\n-Grit cuts really fast and evenly. No random deep scratches like I have seen in some cheaper paper\\n-Didn't even have a hint of clogging up.\\n-The adhesive is just what I needed. No permanent, but wasn't going anywhere.\\n\\nCons:\\n-None Couldn't have been happier with it's performance</td>\n",
       "      <td>2017</td>\n",
       "      <td>442</td>\n",
       "      <td>Positive</td>\n",
       "      <td>worked really well used purpose getting full mark around great durable afforable sandpaper pro grit cut really fast evenly no random deep scratch like seen cheaper paper didnt even hint clogging adhesive needed no permanent wasnt going anywhere con none couldnt happier performance</td>\n",
       "      <td>281</td>\n",
       "    </tr>\n",
       "    <tr>\n",
       "      <th>1</th>\n",
       "      <td>5</td>\n",
       "      <td>True</td>\n",
       "      <td>A2FCLJG5GV8SD6</td>\n",
       "      <td>B0000223SI</td>\n",
       "      <td>Fast cutting and good adheasive. Good paper.</td>\n",
       "      <td>2017</td>\n",
       "      <td>44</td>\n",
       "      <td>Positive</td>\n",
       "      <td>fast cutting good adheasive good paper</td>\n",
       "      <td>38</td>\n",
       "    </tr>\n",
       "    <tr>\n",
       "      <th>2</th>\n",
       "      <td>5</td>\n",
       "      <td>False</td>\n",
       "      <td>A3IT9B33NWYQSL</td>\n",
       "      <td>B0000223SI</td>\n",
       "      <td>Worked great for my lapping bench.  I would like it if the adhesive were backed with waxed paper for storage and keeping the grit out, but all but the first 6 inches or so still functioned when it arrived.  I used rubber cement to remedy that. Handy!</td>\n",
       "      <td>2017</td>\n",
       "      <td>250</td>\n",
       "      <td>Positive</td>\n",
       "      <td>worked great lapping bench would like adhesive backed waxed paper storage keeping grit first inch still functioned arrived used rubber cement remedy handy</td>\n",
       "      <td>154</td>\n",
       "    </tr>\n",
       "  </tbody>\n",
       "</table>\n",
       "</div>"
      ],
      "text/plain": [
       "   overall  verified      reviewerID        asin  \\\n",
       "0        5      True  A1JB7HFWHRYHT7  B0000223SI   \n",
       "1        5      True  A2FCLJG5GV8SD6  B0000223SI   \n",
       "2        5     False  A3IT9B33NWYQSL  B0000223SI   \n",
       "\n",
       "                                                                                                                                                                                                                                                                                                                                                                                                                                                           reviewText  \\\n",
       "0  This worked really well for what I used it for. So for my purposes it is getting full marks. This is an all around great, durable, and afforable sandpaper.\\n\\nPros:\\n-Grit cuts really fast and evenly. No random deep scratches like I have seen in some cheaper paper\\n-Didn't even have a hint of clogging up.\\n-The adhesive is just what I needed. No permanent, but wasn't going anywhere.\\n\\nCons:\\n-None Couldn't have been happier with it's performance   \n",
       "1                                                                                                                                                                                                                                                                                                                                                                                                                        Fast cutting and good adheasive. Good paper.   \n",
       "2                                                                                                                                                                                                          Worked great for my lapping bench.  I would like it if the adhesive were backed with waxed paper for storage and keeping the grit out, but all but the first 6 inches or so still functioned when it arrived.  I used rubber cement to remedy that. Handy!   \n",
       "\n",
       "    year  reviewLength   ratings  \\\n",
       "0   2017           442  Positive   \n",
       "1   2017            44  Positive   \n",
       "2   2017           250  Positive   \n",
       "\n",
       "                                                                                                                                                                                                                                                                               clean_reviews  \\\n",
       "0  worked really well used purpose getting full mark around great durable afforable sandpaper pro grit cut really fast evenly no random deep scratch like seen cheaper paper didnt even hint clogging adhesive needed no permanent wasnt going anywhere con none couldnt happier performance   \n",
       "1                                                                                                                                                                                                                                                     fast cutting good adheasive good paper   \n",
       "2                                                                                                                                 worked great lapping bench would like adhesive backed waxed paper storage keeping grit first inch still functioned arrived used rubber cement remedy handy   \n",
       "\n",
       "   cleanLength  \n",
       "0          281  \n",
       "1           38  \n",
       "2          154  "
      ]
     },
     "execution_count": 110,
     "metadata": {},
     "output_type": "execute_result"
    }
   ],
   "source": [
    "remaining_df.head(3)"
   ]
  },
  {
   "cell_type": "code",
   "execution_count": 111,
   "id": "0eaeec92",
   "metadata": {},
   "outputs": [
    {
     "name": "stdout",
     "output_type": "stream",
     "text": [
      "Train: (44795,), (44795,)\n",
      "Test : (19198,), (19198,)\n",
      "\n"
     ]
    }
   ],
   "source": [
    "x = remaining_df['clean_reviews']\n",
    "y = remaining_df['ratings']\n",
    "\n",
    "X_train, X_test, y_train, y_test = train_test_split(x, y, test_size=0.3, stratify=y, random_state=12)\n",
    "print(f'Train: {X_train.shape}, {y_train.shape}')\n",
    "print(f'Test : {X_test.shape}, {y_test.shape}\\n')"
   ]
  },
  {
   "cell_type": "code",
   "execution_count": 112,
   "id": "aba8ea2e",
   "metadata": {},
   "outputs": [],
   "source": [
    "def train_model(X_train, y_train):\n",
    "    \n",
    "    tfidf = TfidfVectorizer()\n",
    "    X_train_vect = tfidf.fit_transform(X_train)\n",
    "\n",
    "    lr_model = LogisticRegression()\n",
    "    lr_model.fit(X_train_vect, y_train)\n",
    "\n",
    "    gb_model = GradientBoostingClassifier()\n",
    "    gb_model.fit(X_train_vect, y_train)\n",
    "\n",
    "    return {'lr_model': lr_model, 'gb_model': gb_model, 'tfidf': tfidf}"
   ]
  },
  {
   "cell_type": "code",
   "execution_count": 113,
   "id": "909e39c2",
   "metadata": {},
   "outputs": [],
   "source": [
    "def test_model(models, X_test, y_test):\n",
    "    X_test_vect = models['tfidf'].transform(X_test)\n",
    "\n",
    "    lr_prediction = models['lr_model'].predict(X_test_vect)\n",
    "    lr_accuracy = accuracy_score(y_test, lr_prediction)\n",
    "    lr_precision = precision_score(y_test, lr_prediction, average='weighted')\n",
    "    lr_recall = recall_score(y_test, lr_prediction, average='weighted')\n",
    "    lr_f1 = f1_score(y_test, lr_prediction, average='weighted')\n",
    "\n",
    "    gb_prediction = models['gb_model'].predict(X_test_vect)\n",
    "    gb_accuracy = accuracy_score(y_test, gb_prediction)\n",
    "    gb_precision = precision_score(y_test, gb_prediction, average='weighted')\n",
    "    gb_recall = recall_score(y_test, gb_prediction, average='weighted')\n",
    "    gb_f1 = f1_score(y_test, gb_prediction, average='weighted')\n",
    "\n",
    "    vader_accuracy = accuracy_score(sample_df['sentiment_v'], sample_df['ratings'])\n",
    "    print('Vader Lexicon:')\n",
    "    print(f\"\\tAccuracy :{vader_accuracy:.2f}\")\n",
    "\n",
    "    print('\\nLogistic Regression:')\n",
    "    print(f'\\tAccuracy : {lr_accuracy:.2f}')\n",
    "    print(f'\\tPrecision: {lr_precision:.2f}')\n",
    "    print(f'\\tRecall: {lr_recall:.2f}')\n",
    "    print(f'\\tF1 Score: {lr_f1:.2f}')\n",
    "\n",
    "    print('\\nGradient Boosting:')\n",
    "    print(f'\\tAccuracy : {gb_accuracy:.2f}')\n",
    "    print(f'\\tPrecision: {gb_precision:.2f}')\n",
    "    print(f'\\tRecall: {gb_recall:.2f}')\n",
    "    print(f'\\tF1 Score: {gb_f1:.2f}')\n",
    "\n",
    "    return {'lr_accuracy': lr_accuracy, 'gb_accuracy': gb_accuracy, 'vader_accuracy': vader_accuracy}"
   ]
  },
  {
   "cell_type": "code",
   "execution_count": 117,
   "id": "4b4d3032",
   "metadata": {},
   "outputs": [
    {
     "name": "stdout",
     "output_type": "stream",
     "text": [
      "Vader Lexicon:\n",
      "\tAccuracy :0.78\n",
      "\n",
      "Logistic Regression:\n",
      "\tAccuracy : 0.93\n",
      "\tPrecision: 0.92\n",
      "\tRecall: 0.93\n",
      "\tF1 Score: 0.92\n",
      "\n",
      "Gradient Boosting:\n",
      "\tAccuracy : 0.92\n",
      "\tPrecision: 0.92\n",
      "\tRecall: 0.92\n",
      "\tF1 Score: 0.90\n"
     ]
    }
   ],
   "source": [
    "# Train our models\n",
    "models_before_recommender = train_model(X_train, y_train)\n",
    "\n",
    "# Test our models on test dataset\n",
    "test_before_recommender = test_model(models, X_test, y_test)"
   ]
  },
  {
   "cell_type": "code",
   "execution_count": 118,
   "id": "67278d90",
   "metadata": {},
   "outputs": [
    {
     "name": "stdout",
     "output_type": "stream",
     "text": [
      "Vader Lexicon:\n",
      "\tAccuracy :0.78\n",
      "\n",
      "Logistic Regression:\n",
      "\tAccuracy : 0.93\n",
      "\tPrecision: 0.92\n",
      "\tRecall: 0.93\n",
      "\tF1 Score: 0.92\n",
      "\n",
      "Gradient Boosting:\n",
      "\tAccuracy : 0.92\n",
      "\tPrecision: 0.91\n",
      "\tRecall: 0.92\n",
      "\tF1 Score: 0.89\n"
     ]
    }
   ],
   "source": [
    "# Test our models on 2000 samples\n",
    "sample_x = sample_df['clean_reviews']\n",
    "sample_y = sample_df['ratings']\n",
    "\n",
    "sample_before_recommender = test_model(models, sample_x, sample_y)"
   ]
  },
  {
   "cell_type": "markdown",
   "id": "1d7e7539",
   "metadata": {},
   "source": [
    "#### Recommender systems based on user reviews\n",
    "using sentiment analysis techniques to extract the sentiment of the review and then use it to adjust the rating value (For example, if a review text expresses a positive sentiment, but the rating value is low, this may indicate that the product has some flaws that were not severe enough to warrant a very negative rating, but still impacted the user's experience. In such cases, the rating value could be adjusted upwards to reflect the positive sentiment expressed in the review text)"
   ]
  },
  {
   "cell_type": "code",
   "execution_count": 128,
   "id": "5b1767cc",
   "metadata": {},
   "outputs": [],
   "source": [
    "remaining_df.loc[:, 'vaderLexicon'] = remaining_df['clean_reviews'].apply(lambda t: sid.polarity_scores(t)[\"compound\"])"
   ]
  },
  {
   "cell_type": "code",
   "execution_count": 130,
   "id": "c30ef3de",
   "metadata": {},
   "outputs": [
    {
     "data": {
      "text/html": [
       "<div>\n",
       "<style scoped>\n",
       "    .dataframe tbody tr th:only-of-type {\n",
       "        vertical-align: middle;\n",
       "    }\n",
       "\n",
       "    .dataframe tbody tr th {\n",
       "        vertical-align: top;\n",
       "    }\n",
       "\n",
       "    .dataframe thead th {\n",
       "        text-align: right;\n",
       "    }\n",
       "</style>\n",
       "<table border=\"1\" class=\"dataframe\">\n",
       "  <thead>\n",
       "    <tr style=\"text-align: right;\">\n",
       "      <th></th>\n",
       "      <th>overall</th>\n",
       "      <th>verified</th>\n",
       "      <th>reviewerID</th>\n",
       "      <th>asin</th>\n",
       "      <th>reviewText</th>\n",
       "      <th>year</th>\n",
       "      <th>reviewLength</th>\n",
       "      <th>ratings</th>\n",
       "      <th>clean_reviews</th>\n",
       "      <th>cleanLength</th>\n",
       "      <th>adjusted_overall</th>\n",
       "      <th>vaderLexicon</th>\n",
       "      <th>sentiment_v</th>\n",
       "    </tr>\n",
       "  </thead>\n",
       "  <tbody>\n",
       "    <tr>\n",
       "      <th>0</th>\n",
       "      <td>5</td>\n",
       "      <td>True</td>\n",
       "      <td>A1JB7HFWHRYHT7</td>\n",
       "      <td>B0000223SI</td>\n",
       "      <td>This worked really well for what I used it for. So for my purposes it is getting full marks. This is an all around great, durable, and afforable sandpaper.\\n\\nPros:\\n-Grit cuts really fast and evenly. No random deep scratches like I have seen in some cheaper paper\\n-Didn't even have a hint of clogging up.\\n-The adhesive is just what I needed. No permanent, but wasn't going anywhere.\\n\\nCons:\\n-None Couldn't have been happier with it's performance</td>\n",
       "      <td>2017</td>\n",
       "      <td>442</td>\n",
       "      <td>Positive</td>\n",
       "      <td>worked really well used purpose getting full mark around great durable afforable sandpaper pro grit cut really fast evenly no random deep scratch like seen cheaper paper didnt even hint clogging adhesive needed no permanent wasnt going anywhere con none couldnt happier performance</td>\n",
       "      <td>281</td>\n",
       "      <td>NaN</td>\n",
       "      <td>0.6463</td>\n",
       "      <td>Positive</td>\n",
       "    </tr>\n",
       "  </tbody>\n",
       "</table>\n",
       "</div>"
      ],
      "text/plain": [
       "   overall  verified      reviewerID        asin  \\\n",
       "0        5      True  A1JB7HFWHRYHT7  B0000223SI   \n",
       "\n",
       "                                                                                                                                                                                                                                                                                                                                                                                                                                                           reviewText  \\\n",
       "0  This worked really well for what I used it for. So for my purposes it is getting full marks. This is an all around great, durable, and afforable sandpaper.\\n\\nPros:\\n-Grit cuts really fast and evenly. No random deep scratches like I have seen in some cheaper paper\\n-Didn't even have a hint of clogging up.\\n-The adhesive is just what I needed. No permanent, but wasn't going anywhere.\\n\\nCons:\\n-None Couldn't have been happier with it's performance   \n",
       "\n",
       "    year  reviewLength   ratings  \\\n",
       "0   2017           442  Positive   \n",
       "\n",
       "                                                                                                                                                                                                                                                                               clean_reviews  \\\n",
       "0  worked really well used purpose getting full mark around great durable afforable sandpaper pro grit cut really fast evenly no random deep scratch like seen cheaper paper didnt even hint clogging adhesive needed no permanent wasnt going anywhere con none couldnt happier performance   \n",
       "\n",
       "   cleanLength  adjusted_overall  vaderLexicon sentiment_v  \n",
       "0          281               NaN        0.6463    Positive  "
      ]
     },
     "execution_count": 130,
     "metadata": {},
     "output_type": "execute_result"
    }
   ],
   "source": [
    "remaining_df.head(1)"
   ]
  },
  {
   "cell_type": "code",
   "execution_count": 131,
   "id": "a2d1ec67",
   "metadata": {},
   "outputs": [],
   "source": [
    "remaining_df['adjusted_overall'] = ((remaining_df['overall'] + (remaining_df['overall'] * remaining_df['vaderLexicon']))/2).round(1)"
   ]
  },
  {
   "cell_type": "code",
   "execution_count": 120,
   "id": "96de3847",
   "metadata": {},
   "outputs": [],
   "source": [
    "sample_df['adjusted_overall'] = ((sample_df['overall'] + (sample_df['overall'] * sample_df['vaderLexicon']))/2).round(1)"
   ]
  },
  {
   "cell_type": "code",
   "execution_count": 132,
   "id": "a4a45c6e",
   "metadata": {
    "scrolled": true
   },
   "outputs": [
    {
     "data": {
      "text/html": [
       "<div>\n",
       "<style scoped>\n",
       "    .dataframe tbody tr th:only-of-type {\n",
       "        vertical-align: middle;\n",
       "    }\n",
       "\n",
       "    .dataframe tbody tr th {\n",
       "        vertical-align: top;\n",
       "    }\n",
       "\n",
       "    .dataframe thead th {\n",
       "        text-align: right;\n",
       "    }\n",
       "</style>\n",
       "<table border=\"1\" class=\"dataframe\">\n",
       "  <thead>\n",
       "    <tr style=\"text-align: right;\">\n",
       "      <th></th>\n",
       "      <th>overall</th>\n",
       "      <th>adjusted_overall</th>\n",
       "    </tr>\n",
       "  </thead>\n",
       "  <tbody>\n",
       "    <tr>\n",
       "      <th>41768</th>\n",
       "      <td>4</td>\n",
       "      <td>3.8</td>\n",
       "    </tr>\n",
       "    <tr>\n",
       "      <th>52565</th>\n",
       "      <td>2</td>\n",
       "      <td>1.6</td>\n",
       "    </tr>\n",
       "    <tr>\n",
       "      <th>57085</th>\n",
       "      <td>5</td>\n",
       "      <td>4.5</td>\n",
       "    </tr>\n",
       "    <tr>\n",
       "      <th>55699</th>\n",
       "      <td>1</td>\n",
       "      <td>0.8</td>\n",
       "    </tr>\n",
       "    <tr>\n",
       "      <th>70910</th>\n",
       "      <td>5</td>\n",
       "      <td>4.7</td>\n",
       "    </tr>\n",
       "    <tr>\n",
       "      <th>...</th>\n",
       "      <td>...</td>\n",
       "      <td>...</td>\n",
       "    </tr>\n",
       "    <tr>\n",
       "      <th>45973</th>\n",
       "      <td>5</td>\n",
       "      <td>3.9</td>\n",
       "    </tr>\n",
       "    <tr>\n",
       "      <th>55464</th>\n",
       "      <td>5</td>\n",
       "      <td>2.5</td>\n",
       "    </tr>\n",
       "    <tr>\n",
       "      <th>27083</th>\n",
       "      <td>5</td>\n",
       "      <td>4.6</td>\n",
       "    </tr>\n",
       "    <tr>\n",
       "      <th>23434</th>\n",
       "      <td>5</td>\n",
       "      <td>4.6</td>\n",
       "    </tr>\n",
       "    <tr>\n",
       "      <th>53010</th>\n",
       "      <td>5</td>\n",
       "      <td>4.1</td>\n",
       "    </tr>\n",
       "  </tbody>\n",
       "</table>\n",
       "<p>2000 rows × 2 columns</p>\n",
       "</div>"
      ],
      "text/plain": [
       "       overall  adjusted_overall\n",
       "41768        4               3.8\n",
       "52565        2               1.6\n",
       "57085        5               4.5\n",
       "55699        1               0.8\n",
       "70910        5               4.7\n",
       "...        ...               ...\n",
       "45973        5               3.9\n",
       "55464        5               2.5\n",
       "27083        5               4.6\n",
       "23434        5               4.6\n",
       "53010        5               4.1\n",
       "\n",
       "[2000 rows x 2 columns]"
      ]
     },
     "execution_count": 132,
     "metadata": {},
     "output_type": "execute_result"
    }
   ],
   "source": [
    "sample_df[['overall','adjusted_overall']]"
   ]
  },
  {
   "cell_type": "code",
   "execution_count": 133,
   "id": "13b81632",
   "metadata": {},
   "outputs": [
    {
     "name": "stdout",
     "output_type": "stream",
     "text": [
      "0.0\n",
      "5.0\n"
     ]
    }
   ],
   "source": [
    "print(min(sample_df['adjusted_overall']))\n",
    "print(max(sample_df['adjusted_overall']))"
   ]
  },
  {
   "cell_type": "code",
   "execution_count": 134,
   "id": "ee411f14",
   "metadata": {},
   "outputs": [],
   "source": [
    "def lable_ratings(data):\n",
    "    if data['adjusted_overall'] >= 3.3:\n",
    "        data['adjusted_rating'] = 'Positive'\n",
    "    elif data['adjusted_overall'] <= 1.7:\n",
    "        data['adjusted_rating'] = 'Negative'\n",
    "    else:\n",
    "        data['adjusted_rating'] = 'Neutral'\n",
    "    return data\n",
    "\n",
    "remaining_df = remaining_df.apply(lable_ratings, axis = 1)\n",
    "sample_df = sample_df.apply(lable_ratings, axis = 1)"
   ]
  },
  {
   "cell_type": "code",
   "execution_count": 135,
   "id": "42b520ac",
   "metadata": {},
   "outputs": [],
   "source": [
    "x = remaining_df['clean_reviews']\n",
    "y = remaining_df['ratings']\n",
    "\n",
    "X_train, X_test, y_train, y_test = train_test_split(x, y, test_size=0.3, stratify=y, random_state=12)"
   ]
  },
  {
   "cell_type": "code",
   "execution_count": 136,
   "id": "a211965e",
   "metadata": {},
   "outputs": [
    {
     "name": "stdout",
     "output_type": "stream",
     "text": [
      "Vader Lexicon:\n",
      "\tAccuracy :0.78\n",
      "\n",
      "Logistic Regression:\n",
      "\tAccuracy : 0.93\n",
      "\tPrecision: 0.92\n",
      "\tRecall: 0.93\n",
      "\tF1 Score: 0.92\n",
      "\n",
      "Gradient Boosting:\n",
      "\tAccuracy : 0.92\n",
      "\tPrecision: 0.92\n",
      "\tRecall: 0.92\n",
      "\tF1 Score: 0.90\n"
     ]
    }
   ],
   "source": [
    "# Train our models\n",
    "models_after_recommender = train_model(X_train, y_train)\n",
    "\n",
    "# Test our models on test dataset\n",
    "test_after_recommender = test_model(models, X_test, y_test)"
   ]
  },
  {
   "cell_type": "code",
   "execution_count": 137,
   "id": "4b8aac69",
   "metadata": {},
   "outputs": [],
   "source": [
    "sample_x = sample_df['clean_reviews']\n",
    "sample_y = sample_df['adjusted_rating']"
   ]
  },
  {
   "cell_type": "code",
   "execution_count": 138,
   "id": "d1741c84",
   "metadata": {},
   "outputs": [
    {
     "name": "stdout",
     "output_type": "stream",
     "text": [
      "Vader Lexicon:\n",
      "\tAccuracy :0.78\n",
      "\n",
      "Logistic Regression:\n",
      "\tAccuracy : 0.70\n",
      "\tPrecision: 0.66\n",
      "\tRecall: 0.70\n",
      "\tF1 Score: 0.60\n",
      "\n",
      "Gradient Boosting:\n",
      "\tAccuracy : 0.68\n",
      "\tPrecision: 0.67\n",
      "\tRecall: 0.68\n",
      "\tF1 Score: 0.57\n"
     ]
    }
   ],
   "source": [
    "sample_after_recommender = test_model(models, sample_x, sample_y)"
   ]
  },
  {
   "cell_type": "code",
   "execution_count": 140,
   "id": "f5c3f60f",
   "metadata": {},
   "outputs": [
    {
     "name": "stdout",
     "output_type": "stream",
     "text": [
      "Test Before and After Recommendation:\n",
      "\n",
      "Model                 Before Recommender     After Recommender\n",
      "======================================================================\n",
      "Vader Sentiment              0.78                     0.78        \n",
      "Logistic Regression          0.93                     0.93        \n",
      "Gradient Boosting            0.92                     0.92        \n"
     ]
    }
   ],
   "source": [
    "print('Test Before and After Recommendation:\\n')\n",
    "print('Model                 Before Recommender     After Recommender')\n",
    "print('='*70)\n",
    "print('Vader Sentiment      {:^20.2f}     {:^20.2f}'.format(test_before_recommender['vader_accuracy'], test_after_recommender['vader_accuracy']))\n",
    "print('Logistic Regression  {:^20.2f}     {:^20.2f}'.format(test_before_recommender['lr_accuracy'], test_after_recommender['lr_accuracy']))\n",
    "print('Gradient Boosting    {:^20.2f}     {:^20.2f}'.format(test_before_recommender['gb_accuracy'], test_after_recommender['gb_accuracy']))"
   ]
  },
  {
   "cell_type": "code",
   "execution_count": 141,
   "id": "50da0795",
   "metadata": {},
   "outputs": [
    {
     "name": "stdout",
     "output_type": "stream",
     "text": [
      "Sample Before and After Recommendation:\n",
      "\n",
      "Model                 Before Recommender     After Recommender\n",
      "======================================================================\n",
      "Vader Sentiment              0.78                     0.78        \n",
      "Logistic Regression          0.93                     0.70        \n",
      "Gradient Boosting            0.92                     0.68        \n"
     ]
    }
   ],
   "source": [
    "print('Sample Before and After Recommendation:\\n')\n",
    "\n",
    "print('Model                 Before Recommender     After Recommender')\n",
    "print('='*70)\n",
    "print('Vader Sentiment      {:^20.2f}     {:^20.2f}'.format(sample_before_recommender['vader_accuracy'], sample_after_recommender['vader_accuracy']))\n",
    "print('Logistic Regression  {:^20.2f}     {:^20.2f}'.format(sample_before_recommender['lr_accuracy'], sample_after_recommender['lr_accuracy']))\n",
    "print('Gradient Boosting    {:^20.2f}     {:^20.2f}'.format(sample_before_recommender['gb_accuracy'], sample_after_recommender['gb_accuracy']))"
   ]
  }
 ],
 "metadata": {
  "kernelspec": {
   "display_name": "Python 3 (ipykernel)",
   "language": "python",
   "name": "python3"
  },
  "language_info": {
   "codemirror_mode": {
    "name": "ipython",
    "version": 3
   },
   "file_extension": ".py",
   "mimetype": "text/x-python",
   "name": "python",
   "nbconvert_exporter": "python",
   "pygments_lexer": "ipython3",
   "version": "3.9.13"
  }
 },
 "nbformat": 4,
 "nbformat_minor": 5
}
